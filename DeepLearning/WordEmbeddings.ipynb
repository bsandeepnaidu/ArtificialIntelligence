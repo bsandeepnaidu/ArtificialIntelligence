{
 "cells": [
  {
   "cell_type": "code",
   "execution_count": 1,
   "id": "a94af599-f486-4e49-a0b8-0735ab02ea9b",
   "metadata": {},
   "outputs": [
    {
     "name": "stderr",
     "output_type": "stream",
     "text": [
      "\n",
      "[notice] A new release of pip is available: 24.1.2 -> 24.2\n",
      "[notice] To update, run: C:\\Users\\Sandeep\\AppData\\Local\\Programs\\Python\\Python312\\python.exe -m pip install --upgrade pip\n"
     ]
    }
   ],
   "source": [
    "!pip install unidecode gensim -q"
   ]
  },
  {
   "cell_type": "code",
   "execution_count": 4,
   "id": "7945817f-bf31-4c65-96db-fe5f5ca6f47f",
   "metadata": {},
   "outputs": [
    {
     "name": "stdout",
     "output_type": "stream",
     "text": [
      "Collecting zeugma\n",
      "  Downloading zeugma-0.49.tar.gz (9.9 kB)\n",
      "  Preparing metadata (setup.py): started\n",
      "  Preparing metadata (setup.py): finished with status 'done'\n",
      "Requirement already satisfied: numpy>=1.13.3 in c:\\users\\sandeep\\appdata\\local\\programs\\python\\python312\\lib\\site-packages (from zeugma) (1.26.4)\n",
      "Collecting Cython>=0.27.3 (from zeugma)\n",
      "  Using cached Cython-3.0.11-cp312-cp312-win_amd64.whl.metadata (3.2 kB)\n",
      "Requirement already satisfied: pandas>=0.20.3 in c:\\users\\sandeep\\appdata\\local\\programs\\python\\python312\\lib\\site-packages (from zeugma) (2.2.2)\n",
      "Requirement already satisfied: gensim>=3.5.0 in c:\\users\\sandeep\\appdata\\local\\programs\\python\\python312\\lib\\site-packages (from zeugma) (4.3.3)\n",
      "Requirement already satisfied: scikit_learn>=0.19.1 in c:\\users\\sandeep\\appdata\\local\\programs\\python\\python312\\lib\\site-packages (from zeugma) (1.4.2)\n",
      "Requirement already satisfied: tensorflow>=1.5.0 in c:\\users\\sandeep\\appdata\\local\\programs\\python\\python312\\lib\\site-packages (from zeugma) (2.17.0)\n",
      "Requirement already satisfied: keras>=2.1.3 in c:\\users\\sandeep\\appdata\\local\\programs\\python\\python312\\lib\\site-packages (from zeugma) (3.4.1)\n",
      "Requirement already satisfied: scipy<1.14.0,>=1.7.0 in c:\\users\\sandeep\\appdata\\local\\programs\\python\\python312\\lib\\site-packages (from gensim>=3.5.0->zeugma) (1.13.0)\n",
      "Requirement already satisfied: smart-open>=1.8.1 in c:\\users\\sandeep\\appdata\\local\\programs\\python\\python312\\lib\\site-packages (from gensim>=3.5.0->zeugma) (7.0.4)\n",
      "Requirement already satisfied: absl-py in c:\\users\\sandeep\\appdata\\local\\programs\\python\\python312\\lib\\site-packages (from keras>=2.1.3->zeugma) (2.1.0)\n",
      "Requirement already satisfied: rich in c:\\users\\sandeep\\appdata\\local\\programs\\python\\python312\\lib\\site-packages (from keras>=2.1.3->zeugma) (13.7.1)\n",
      "Requirement already satisfied: namex in c:\\users\\sandeep\\appdata\\local\\programs\\python\\python312\\lib\\site-packages (from keras>=2.1.3->zeugma) (0.0.8)\n",
      "Requirement already satisfied: h5py in c:\\users\\sandeep\\appdata\\local\\programs\\python\\python312\\lib\\site-packages (from keras>=2.1.3->zeugma) (3.11.0)\n",
      "Requirement already satisfied: optree in c:\\users\\sandeep\\appdata\\local\\programs\\python\\python312\\lib\\site-packages (from keras>=2.1.3->zeugma) (0.11.0)\n",
      "Requirement already satisfied: ml-dtypes in c:\\users\\sandeep\\appdata\\local\\programs\\python\\python312\\lib\\site-packages (from keras>=2.1.3->zeugma) (0.3.2)\n",
      "Requirement already satisfied: packaging in c:\\users\\sandeep\\appdata\\local\\programs\\python\\python312\\lib\\site-packages (from keras>=2.1.3->zeugma) (24.0)\n",
      "Requirement already satisfied: python-dateutil>=2.8.2 in c:\\users\\sandeep\\appdata\\local\\programs\\python\\python312\\lib\\site-packages (from pandas>=0.20.3->zeugma) (2.9.0.post0)\n",
      "Requirement already satisfied: pytz>=2020.1 in c:\\users\\sandeep\\appdata\\local\\programs\\python\\python312\\lib\\site-packages (from pandas>=0.20.3->zeugma) (2024.1)\n",
      "Requirement already satisfied: tzdata>=2022.7 in c:\\users\\sandeep\\appdata\\local\\programs\\python\\python312\\lib\\site-packages (from pandas>=0.20.3->zeugma) (2024.1)\n",
      "Requirement already satisfied: joblib>=1.2.0 in c:\\users\\sandeep\\appdata\\local\\programs\\python\\python312\\lib\\site-packages (from scikit_learn>=0.19.1->zeugma) (1.4.0)\n",
      "Requirement already satisfied: threadpoolctl>=2.0.0 in c:\\users\\sandeep\\appdata\\local\\programs\\python\\python312\\lib\\site-packages (from scikit_learn>=0.19.1->zeugma) (3.4.0)\n",
      "Requirement already satisfied: tensorflow-intel==2.17.0 in c:\\users\\sandeep\\appdata\\local\\programs\\python\\python312\\lib\\site-packages (from tensorflow>=1.5.0->zeugma) (2.17.0)\n",
      "Requirement already satisfied: astunparse>=1.6.0 in c:\\users\\sandeep\\appdata\\local\\programs\\python\\python312\\lib\\site-packages (from tensorflow-intel==2.17.0->tensorflow>=1.5.0->zeugma) (1.6.3)\n",
      "Requirement already satisfied: flatbuffers>=24.3.25 in c:\\users\\sandeep\\appdata\\local\\programs\\python\\python312\\lib\\site-packages (from tensorflow-intel==2.17.0->tensorflow>=1.5.0->zeugma) (24.3.25)\n",
      "Requirement already satisfied: gast!=0.5.0,!=0.5.1,!=0.5.2,>=0.2.1 in c:\\users\\sandeep\\appdata\\local\\programs\\python\\python312\\lib\\site-packages (from tensorflow-intel==2.17.0->tensorflow>=1.5.0->zeugma) (0.5.4)\n",
      "Requirement already satisfied: google-pasta>=0.1.1 in c:\\users\\sandeep\\appdata\\local\\programs\\python\\python312\\lib\\site-packages (from tensorflow-intel==2.17.0->tensorflow>=1.5.0->zeugma) (0.2.0)\n",
      "Requirement already satisfied: libclang>=13.0.0 in c:\\users\\sandeep\\appdata\\local\\programs\\python\\python312\\lib\\site-packages (from tensorflow-intel==2.17.0->tensorflow>=1.5.0->zeugma) (18.1.1)\n",
      "Requirement already satisfied: opt-einsum>=2.3.2 in c:\\users\\sandeep\\appdata\\local\\programs\\python\\python312\\lib\\site-packages (from tensorflow-intel==2.17.0->tensorflow>=1.5.0->zeugma) (3.3.0)\n",
      "Requirement already satisfied: protobuf!=4.21.0,!=4.21.1,!=4.21.2,!=4.21.3,!=4.21.4,!=4.21.5,<5.0.0dev,>=3.20.3 in c:\\users\\sandeep\\appdata\\local\\programs\\python\\python312\\lib\\site-packages (from tensorflow-intel==2.17.0->tensorflow>=1.5.0->zeugma) (4.25.3)\n",
      "Requirement already satisfied: requests<3,>=2.21.0 in c:\\users\\sandeep\\appdata\\local\\programs\\python\\python312\\lib\\site-packages (from tensorflow-intel==2.17.0->tensorflow>=1.5.0->zeugma) (2.31.0)\n",
      "Requirement already satisfied: setuptools in c:\\users\\sandeep\\appdata\\local\\programs\\python\\python312\\lib\\site-packages (from tensorflow-intel==2.17.0->tensorflow>=1.5.0->zeugma) (69.5.1)\n",
      "Requirement already satisfied: six>=1.12.0 in c:\\users\\sandeep\\appdata\\local\\programs\\python\\python312\\lib\\site-packages (from tensorflow-intel==2.17.0->tensorflow>=1.5.0->zeugma) (1.16.0)\n",
      "Requirement already satisfied: termcolor>=1.1.0 in c:\\users\\sandeep\\appdata\\local\\programs\\python\\python312\\lib\\site-packages (from tensorflow-intel==2.17.0->tensorflow>=1.5.0->zeugma) (2.4.0)\n",
      "Requirement already satisfied: typing-extensions>=3.6.6 in c:\\users\\sandeep\\appdata\\local\\programs\\python\\python312\\lib\\site-packages (from tensorflow-intel==2.17.0->tensorflow>=1.5.0->zeugma) (4.11.0)\n",
      "Requirement already satisfied: wrapt>=1.11.0 in c:\\users\\sandeep\\appdata\\local\\programs\\python\\python312\\lib\\site-packages (from tensorflow-intel==2.17.0->tensorflow>=1.5.0->zeugma) (1.16.0)\n",
      "Requirement already satisfied: grpcio<2.0,>=1.24.3 in c:\\users\\sandeep\\appdata\\local\\programs\\python\\python312\\lib\\site-packages (from tensorflow-intel==2.17.0->tensorflow>=1.5.0->zeugma) (1.62.1)\n",
      "Requirement already satisfied: tensorboard<2.18,>=2.17 in c:\\users\\sandeep\\appdata\\local\\programs\\python\\python312\\lib\\site-packages (from tensorflow-intel==2.17.0->tensorflow>=1.5.0->zeugma) (2.17.0)\n",
      "Requirement already satisfied: markdown-it-py>=2.2.0 in c:\\users\\sandeep\\appdata\\local\\programs\\python\\python312\\lib\\site-packages (from rich->keras>=2.1.3->zeugma) (3.0.0)\n",
      "Requirement already satisfied: pygments<3.0.0,>=2.13.0 in c:\\users\\sandeep\\appdata\\local\\programs\\python\\python312\\lib\\site-packages (from rich->keras>=2.1.3->zeugma) (2.17.2)\n",
      "Requirement already satisfied: wheel<1.0,>=0.23.0 in c:\\users\\sandeep\\appdata\\local\\programs\\python\\python312\\lib\\site-packages (from astunparse>=1.6.0->tensorflow-intel==2.17.0->tensorflow>=1.5.0->zeugma) (0.43.0)\n",
      "Requirement already satisfied: mdurl~=0.1 in c:\\users\\sandeep\\appdata\\local\\programs\\python\\python312\\lib\\site-packages (from markdown-it-py>=2.2.0->rich->keras>=2.1.3->zeugma) (0.1.2)\n",
      "Requirement already satisfied: charset-normalizer<4,>=2 in c:\\users\\sandeep\\appdata\\local\\programs\\python\\python312\\lib\\site-packages (from requests<3,>=2.21.0->tensorflow-intel==2.17.0->tensorflow>=1.5.0->zeugma) (3.3.2)\n",
      "Requirement already satisfied: idna<4,>=2.5 in c:\\users\\sandeep\\appdata\\local\\programs\\python\\python312\\lib\\site-packages (from requests<3,>=2.21.0->tensorflow-intel==2.17.0->tensorflow>=1.5.0->zeugma) (3.7)\n",
      "Requirement already satisfied: urllib3<3,>=1.21.1 in c:\\users\\sandeep\\appdata\\local\\programs\\python\\python312\\lib\\site-packages (from requests<3,>=2.21.0->tensorflow-intel==2.17.0->tensorflow>=1.5.0->zeugma) (2.2.1)\n",
      "Requirement already satisfied: certifi>=2017.4.17 in c:\\users\\sandeep\\appdata\\local\\programs\\python\\python312\\lib\\site-packages (from requests<3,>=2.21.0->tensorflow-intel==2.17.0->tensorflow>=1.5.0->zeugma) (2024.2.2)\n",
      "Requirement already satisfied: markdown>=2.6.8 in c:\\users\\sandeep\\appdata\\local\\programs\\python\\python312\\lib\\site-packages (from tensorboard<2.18,>=2.17->tensorflow-intel==2.17.0->tensorflow>=1.5.0->zeugma) (3.6)\n",
      "Requirement already satisfied: tensorboard-data-server<0.8.0,>=0.7.0 in c:\\users\\sandeep\\appdata\\local\\programs\\python\\python312\\lib\\site-packages (from tensorboard<2.18,>=2.17->tensorflow-intel==2.17.0->tensorflow>=1.5.0->zeugma) (0.7.2)\n",
      "Requirement already satisfied: werkzeug>=1.0.1 in c:\\users\\sandeep\\appdata\\local\\programs\\python\\python312\\lib\\site-packages (from tensorboard<2.18,>=2.17->tensorflow-intel==2.17.0->tensorflow>=1.5.0->zeugma) (3.0.2)\n",
      "Requirement already satisfied: MarkupSafe>=2.1.1 in c:\\users\\sandeep\\appdata\\local\\programs\\python\\python312\\lib\\site-packages (from werkzeug>=1.0.1->tensorboard<2.18,>=2.17->tensorflow-intel==2.17.0->tensorflow>=1.5.0->zeugma) (2.1.5)\n",
      "Using cached Cython-3.0.11-cp312-cp312-win_amd64.whl (2.8 MB)\n",
      "Building wheels for collected packages: zeugma\n",
      "  Building wheel for zeugma (setup.py): started\n",
      "  Building wheel for zeugma (setup.py): finished with status 'done'\n",
      "  Created wheel for zeugma: filename=zeugma-0.49-py3-none-any.whl size=8819 sha256=13c3b79a2b2cd1b630306d31553f6d8dbb749e321a486d799211fa56bebf62ab\n",
      "  Stored in directory: c:\\users\\sandeep\\appdata\\local\\pip\\cache\\wheels\\69\\09\\cf\\3299ee58381ae943083773c23161933afa3ee288edfe0146f7\n",
      "Successfully built zeugma\n",
      "Installing collected packages: Cython, zeugma\n",
      "Successfully installed Cython-3.0.11 zeugma-0.49\n"
     ]
    },
    {
     "name": "stderr",
     "output_type": "stream",
     "text": [
      "\n",
      "[notice] A new release of pip is available: 24.1.2 -> 24.2\n",
      "[notice] To update, run: C:\\Users\\Sandeep\\AppData\\Local\\Programs\\Python\\Python312\\python.exe -m pip install --upgrade pip\n"
     ]
    }
   ],
   "source": [
    "!pip install zeugma"
   ]
  },
  {
   "cell_type": "code",
   "execution_count": 8,
   "id": "85bb6974-0d05-41de-88df-d06b8f87eed4",
   "metadata": {},
   "outputs": [
    {
     "name": "stdout",
     "output_type": "stream",
     "text": [
      "Collecting fasttext\n",
      "  Downloading fasttext-0.9.3.tar.gz (73 kB)\n",
      "     ---------------------------------------- 0.0/73.4 kB ? eta -:--:--\n",
      "     ---------------------------------------- 73.4/73.4 kB 3.9 MB/s eta 0:00:00\n",
      "  Installing build dependencies: started\n",
      "  Installing build dependencies: finished with status 'done'\n",
      "  Getting requirements to build wheel: started\n",
      "  Getting requirements to build wheel: finished with status 'done'\n",
      "  Preparing metadata (pyproject.toml): started\n",
      "  Preparing metadata (pyproject.toml): finished with status 'done'\n",
      "Collecting pybind11>=2.2 (from fasttext)\n",
      "  Using cached pybind11-2.13.3-py3-none-any.whl.metadata (9.5 kB)\n",
      "Requirement already satisfied: setuptools>=0.7.0 in c:\\users\\sandeep\\appdata\\local\\programs\\python\\python312\\lib\\site-packages (from fasttext) (69.5.1)\n",
      "Requirement already satisfied: numpy in c:\\users\\sandeep\\appdata\\local\\programs\\python\\python312\\lib\\site-packages (from fasttext) (1.26.4)\n",
      "Using cached pybind11-2.13.3-py3-none-any.whl (240 kB)\n",
      "Building wheels for collected packages: fasttext\n",
      "  Building wheel for fasttext (pyproject.toml): started\n",
      "  Building wheel for fasttext (pyproject.toml): finished with status 'error'\n",
      "Failed to build fasttext\n",
      "Note: you may need to restart the kernel to use updated packages.\n"
     ]
    },
    {
     "name": "stderr",
     "output_type": "stream",
     "text": [
      "  error: subprocess-exited-with-error\n",
      "  \n",
      "  Building wheel for fasttext (pyproject.toml) did not run successfully.\n",
      "  exit code: 1\n",
      "  \n",
      "  [43 lines of output]\n",
      "  C:\\Users\\Sandeep\\AppData\\Local\\Temp\\pip-build-env-nmnvklue\\overlay\\Lib\\site-packages\\setuptools\\dist.py:447: SetuptoolsDeprecationWarning: Invalid dash-separated options\n",
      "  !!\n",
      "  \n",
      "          ********************************************************************************\n",
      "          Usage of dash-separated 'description-file' will not be supported in future\n",
      "          versions. Please use the underscore name 'description_file' instead.\n",
      "  \n",
      "          By 2024-Sep-26, you need to update your project and remove deprecated calls\n",
      "          or your builds will no longer be supported.\n",
      "  \n",
      "          See https://setuptools.pypa.io/en/latest/userguide/declarative_config.html for details.\n",
      "          ********************************************************************************\n",
      "  \n",
      "  !!\n",
      "    opt = self.warn_dash_deprecation(opt, section)\n",
      "  running bdist_wheel\n",
      "  running build\n",
      "  running build_py\n",
      "  creating build\n",
      "  creating build\\lib.win-amd64-cpython-312\n",
      "  creating build\\lib.win-amd64-cpython-312\\fasttext\n",
      "  copying python\\fasttext_module\\fasttext\\FastText.py -> build\\lib.win-amd64-cpython-312\\fasttext\n",
      "  copying python\\fasttext_module\\fasttext\\__init__.py -> build\\lib.win-amd64-cpython-312\\fasttext\n",
      "  creating build\\lib.win-amd64-cpython-312\\fasttext\\util\n",
      "  copying python\\fasttext_module\\fasttext\\util\\util.py -> build\\lib.win-amd64-cpython-312\\fasttext\\util\n",
      "  copying python\\fasttext_module\\fasttext\\util\\__init__.py -> build\\lib.win-amd64-cpython-312\\fasttext\\util\n",
      "  creating build\\lib.win-amd64-cpython-312\\fasttext\\tests\n",
      "  copying python\\fasttext_module\\fasttext\\tests\\test_configurations.py -> build\\lib.win-amd64-cpython-312\\fasttext\\tests\n",
      "  copying python\\fasttext_module\\fasttext\\tests\\test_script.py -> build\\lib.win-amd64-cpython-312\\fasttext\\tests\n",
      "  copying python\\fasttext_module\\fasttext\\tests\\__init__.py -> build\\lib.win-amd64-cpython-312\\fasttext\\tests\n",
      "  running build_ext\n",
      "  building 'fasttext_pybind' extension\n",
      "  creating build\\temp.win-amd64-cpython-312\n",
      "  creating build\\temp.win-amd64-cpython-312\\Release\n",
      "  creating build\\temp.win-amd64-cpython-312\\Release\\python\n",
      "  creating build\\temp.win-amd64-cpython-312\\Release\\python\\fasttext_module\n",
      "  creating build\\temp.win-amd64-cpython-312\\Release\\python\\fasttext_module\\fasttext\n",
      "  creating build\\temp.win-amd64-cpython-312\\Release\\python\\fasttext_module\\fasttext\\pybind\n",
      "  creating build\\temp.win-amd64-cpython-312\\Release\\src\n",
      "  \"C:\\Program Files (x86)\\Microsoft Visual Studio\\2019\\BuildTools\\VC\\Tools\\MSVC\\14.24.28314\\bin\\HostX86\\x64\\cl.exe\" /c /nologo /O2 /W3 /GL /DNDEBUG /MD -IC:\\Users\\Sandeep\\AppData\\Local\\Temp\\pip-build-env-nmnvklue\\overlay\\Lib\\site-packages\\pybind11\\include -IC:\\Users\\Sandeep\\AppData\\Local\\Temp\\pip-build-env-nmnvklue\\overlay\\Lib\\site-packages\\pybind11\\include -Isrc -IC:\\Users\\Sandeep\\AppData\\Local\\Programs\\Python\\Python312\\include -IC:\\Users\\Sandeep\\AppData\\Local\\Programs\\Python\\Python312\\Include \"-IC:\\Program Files (x86)\\Microsoft Visual Studio\\2019\\BuildTools\\VC\\Tools\\MSVC\\14.24.28314\\include\" /EHsc /Tppython/fasttext_module/fasttext/pybind/fasttext_pybind.cc /Fobuild\\temp.win-amd64-cpython-312\\Release\\python/fasttext_module/fasttext/pybind/fasttext_pybind.obj /EHsc /DVERSION_INFO=\\\\\\\"0.9.3\\\\\\\"\n",
      "  fasttext_pybind.cc\n",
      "  C:\\Program Files (x86)\\Microsoft Visual Studio\\2019\\BuildTools\\VC\\Tools\\MSVC\\14.24.28314\\include\\yvals.h(12): fatal error C1083: Cannot open include file: 'crtdbg.h': No such file or directory\n",
      "  error: command 'C:\\\\Program Files (x86)\\\\Microsoft Visual Studio\\\\2019\\\\BuildTools\\\\VC\\\\Tools\\\\MSVC\\\\14.24.28314\\\\bin\\\\HostX86\\\\x64\\\\cl.exe' failed with exit code 2\n",
      "  [end of output]\n",
      "  \n",
      "  note: This error originates from a subprocess, and is likely not a problem with pip.\n",
      "  ERROR: Failed building wheel for fasttext\n",
      "ERROR: ERROR: Failed to build installable wheels for some pyproject.toml based projects (fasttext)\n",
      "\n",
      "[notice] A new release of pip is available: 24.1.2 -> 24.2\n",
      "[notice] To update, run: C:\\Users\\Sandeep\\AppData\\Local\\Programs\\Python\\Python312\\python.exe -m pip install --upgrade pip\n"
     ]
    }
   ],
   "source": [
    "pip install fasttext"
   ]
  },
  {
   "cell_type": "code",
   "execution_count": null,
   "id": "066cec0f-9417-493c-91d1-22499da5cbf4",
   "metadata": {},
   "outputs": [],
   "source": []
  }
 ],
 "metadata": {
  "kernelspec": {
   "display_name": "Python 3 (ipykernel)",
   "language": "python",
   "name": "python3"
  },
  "language_info": {
   "codemirror_mode": {
    "name": "ipython",
    "version": 3
   },
   "file_extension": ".py",
   "mimetype": "text/x-python",
   "name": "python",
   "nbconvert_exporter": "python",
   "pygments_lexer": "ipython3",
   "version": "3.12.3"
  }
 },
 "nbformat": 4,
 "nbformat_minor": 5
}
