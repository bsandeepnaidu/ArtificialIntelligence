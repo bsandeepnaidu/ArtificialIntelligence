{
 "cells": [
  {
   "cell_type": "markdown",
   "metadata": {
    "id": "KHo8a_51BzGt"
   },
   "source": [
    "TENSOR\n",
    "\n",
    "It is a multi dimensional array of elements of single data type\n",
    "\n",
    "Reference:(https://www.tensorflow.org/api_docs/python/tf/Tensor)"
   ]
  },
  {
   "cell_type": "markdown",
   "metadata": {
    "id": "RGPuMLExH13C"
   },
   "source": [
    "### Import TensorFlow and verify the current version"
   ]
  },
  {
   "cell_type": "code",
   "execution_count": 1,
   "metadata": {
    "colab": {
     "base_uri": "https://localhost:8080/"
    },
    "executionInfo": {
     "elapsed": 3252,
     "status": "ok",
     "timestamp": 1656314043679,
     "user": {
      "displayName": "Harish S",
      "userId": "02147254501317490646"
     },
     "user_tz": -330
    },
    "id": "FObCRRTf471W",
    "outputId": "a68de21a-0c67-41de-93f4-a3966b9f0bdb"
   },
   "outputs": [
    {
     "name": "stdout",
     "output_type": "stream",
     "text": [
      "2.12.0\n"
     ]
    }
   ],
   "source": [
    "import tensorflow as tf\n",
    "print(tf.__version__)"
   ]
  },
  {
   "cell_type": "markdown",
   "metadata": {
    "id": "tDTSwSYM_MNq"
   },
   "source": [
    "### Create a tensor\n",
    "- We will create a constant tensor\n",
    "- It is similar like constants in python\n",
    "- Read more about it here https://www.tensorflow.org/api_docs/python/tf/constant"
   ]
  },
  {
   "cell_type": "code",
   "execution_count": 2,
   "metadata": {
    "executionInfo": {
     "elapsed": 552,
     "status": "ok",
     "timestamp": 1656314047863,
     "user": {
      "displayName": "Harish S",
      "userId": "02147254501317490646"
     },
     "user_tz": -330
    },
    "id": "ao4SLpHC_MNs"
   },
   "outputs": [],
   "source": [
    "hello = tf.constant('Hello World',name='Const1')"
   ]
  },
  {
   "cell_type": "markdown",
   "metadata": {
    "id": "oisbP46SquAM"
   },
   "source": [
    "### Print value of tensor\n",
    "- To print the value of a Tensor you need to use tf.print()\n",
    "- Read more it about it here https://www.tensorflow.org/api_docs/python/tf/print"
   ]
  },
  {
   "cell_type": "code",
   "execution_count": 3,
   "metadata": {
    "colab": {
     "base_uri": "https://localhost:8080/"
    },
    "executionInfo": {
     "elapsed": 353,
     "status": "ok",
     "timestamp": 1656314293742,
     "user": {
      "displayName": "Harish S",
      "userId": "02147254501317490646"
     },
     "user_tz": -330
    },
    "id": "Kc4k0lgw_MN0",
    "outputId": "b17773e1-05f7-4137-c5c6-4624e7c23455"
   },
   "outputs": [
    {
     "name": "stdout",
     "output_type": "stream",
     "text": [
      "Hello World\n"
     ]
    }
   ],
   "source": [
    "tf.print(hello)"
   ]
  },
  {
   "cell_type": "markdown",
   "metadata": {
    "id": "Y84XCCrXDfx-"
   },
   "source": [
    "tf.tensor has the following properties \n",
    "\n",
    "1> single data type\n",
    "2> shape\n",
    "\n",
    "Reference: [tf.tensor](https://www.tensorflow.org/api_docs/python/tf/Tensor)"
   ]
  },
  {
   "cell_type": "markdown",
   "metadata": {
    "id": "E5RNMtPI_MN_"
   },
   "source": [
    "### Defining shape\n",
    "- You can define shape of a tensor using \"shape\" parameter\n",
    "- Here we will define a constant tensor with a specific shape\n"
   ]
  },
  {
   "cell_type": "code",
   "execution_count": 4,
   "metadata": {
    "executionInfo": {
     "elapsed": 385,
     "status": "ok",
     "timestamp": 1656314309581,
     "user": {
      "displayName": "Harish S",
      "userId": "02147254501317490646"
     },
     "user_tz": -330
    },
    "id": "aRyNhbe3_MOB"
   },
   "outputs": [],
   "source": [
    "hello_2 = tf.constant('Hello World', shape=[6,2])"
   ]
  },
  {
   "cell_type": "code",
   "execution_count": 5,
   "metadata": {
    "colab": {
     "base_uri": "https://localhost:8080/"
    },
    "executionInfo": {
     "elapsed": 6,
     "status": "ok",
     "timestamp": 1656314310775,
     "user": {
      "displayName": "Harish S",
      "userId": "02147254501317490646"
     },
     "user_tz": -330
    },
    "id": "9XJb5ZlDsegR",
    "outputId": "decb1228-65de-4174-e137-394064100807"
   },
   "outputs": [
    {
     "name": "stdout",
     "output_type": "stream",
     "text": [
      "[[\"Hello World\" \"Hello World\"]\n",
      " [\"Hello World\" \"Hello World\"]\n",
      " [\"Hello World\" \"Hello World\"]\n",
      " [\"Hello World\" \"Hello World\"]\n",
      " [\"Hello World\" \"Hello World\"]\n",
      " [\"Hello World\" \"Hello World\"]]\n"
     ]
    }
   ],
   "source": [
    "tf.print(hello_2)"
   ]
  },
  {
   "cell_type": "code",
   "execution_count": null,
   "metadata": {},
   "outputs": [],
   "source": []
  },
  {
   "cell_type": "code",
   "execution_count": null,
   "metadata": {},
   "outputs": [],
   "source": []
  },
  {
   "cell_type": "code",
   "execution_count": null,
   "metadata": {},
   "outputs": [],
   "source": []
  }
 ],
 "metadata": {
  "colab": {
   "collapsed_sections": [],
   "name": "1 - TensorFlow Hello World - Faculty Content.ipynb",
   "provenance": []
  },
  "gpuClass": "standard",
  "kernelspec": {
   "display_name": "Python 3 (ipykernel)",
   "language": "python",
   "name": "python3"
  },
  "language_info": {
   "codemirror_mode": {
    "name": "ipython",
    "version": 3
   },
   "file_extension": ".py",
   "mimetype": "text/x-python",
   "name": "python",
   "nbconvert_exporter": "python",
   "pygments_lexer": "ipython3",
   "version": "3.12.3"
  }
 },
 "nbformat": 4,
 "nbformat_minor": 4
}
