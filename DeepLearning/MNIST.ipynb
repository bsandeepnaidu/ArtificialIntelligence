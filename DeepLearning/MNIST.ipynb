{
 "cells": [
  {
   "cell_type": "code",
   "execution_count": 4,
   "id": "2fc61211-e244-41b5-a643-16cbf140873d",
   "metadata": {},
   "outputs": [],
   "source": [
    "import pandas as pd\n",
    "import numpy as np\n",
    "import matplotlib.pyplot as plt\n",
    "import keras\n",
    "from tensorflow.keras.utils import to_categorical\n",
    "import warnings\n",
    "warnings.filterwarnings('ignore')\n",
    "from tensorflow.keras.callbacks import ModelCheckpoint, ReduceLROnPlateau"
   ]
  },
  {
   "cell_type": "code",
   "execution_count": 5,
   "id": "1bd2b74a-3cdd-407c-b694-8b0b0794f2d3",
   "metadata": {},
   "outputs": [],
   "source": [
    "from keras.datasets import mnist"
   ]
  },
  {
   "cell_type": "code",
   "execution_count": 6,
   "id": "92fd2f96-b190-4984-8d3a-9735d605ac7e",
   "metadata": {},
   "outputs": [],
   "source": [
    "(x_train,y_train),(x_test,y_test) = mnist.load_data()"
   ]
  },
  {
   "cell_type": "code",
   "execution_count": 7,
   "id": "f052111f-e7d2-4d82-832b-6b8d7f40a711",
   "metadata": {},
   "outputs": [
    {
     "name": "stdout",
     "output_type": "stream",
     "text": [
      "(60000, 28, 28)\n",
      "(60000,)\n",
      "(10000, 28, 28)\n",
      "(10000,)\n"
     ]
    }
   ],
   "source": [
    "print(x_train.shape)\n",
    "print(y_train.shape)\n",
    "print(x_test.shape)\n",
    "print(y_test.shape)"
   ]
  },
  {
   "cell_type": "code",
   "execution_count": 8,
   "id": "65243fb5-50ea-4075-8efd-ff822c14c742",
   "metadata": {
    "scrolled": true
   },
   "outputs": [
    {
     "data": {
      "text/plain": [
       "array([[  0,   0,   0,   0,   0,   0,   0,   0,   0,   0,   0,   0,   0,\n",
       "          0,   0,   0,   0,   0,   0,   0,   0,   0,   0,   0,   0,   0,\n",
       "          0,   0],\n",
       "       [  0,   0,   0,   0,   0,   0,   0,   0,   0,   0,   0,   0,   0,\n",
       "          0,   0,   0,   0,   0,   0,   0,   0,   0,   0,   0,   0,   0,\n",
       "          0,   0],\n",
       "       [  0,   0,   0,   0,   0,   0,   0,   0,   0,   0,   0,   0,   0,\n",
       "          0,   0,   0,   0,   0,   0,   0,   0,   0,   0,   0,   0,   0,\n",
       "          0,   0],\n",
       "       [  0,   0,   0,   0,   0,   0,   0,   0,   0,   0,   0,   0,   0,\n",
       "          0,   0,   0,   0,   0,   0,   0,   0,   0,   0,   0,   0,   0,\n",
       "          0,   0],\n",
       "       [  0,   0,   0,   0,   0,   0,   0,   0,   0,   0,   0,   0,   0,\n",
       "          0,   0,   0,   0,   0,   0,   0,   0,   0,   0,   0,   0,   0,\n",
       "          0,   0],\n",
       "       [  0,   0,   0,   0,   0,   0,   0,   0,   0,   0,   0,   0,   3,\n",
       "         18,  18,  18, 126, 136, 175,  26, 166, 255, 247, 127,   0,   0,\n",
       "          0,   0],\n",
       "       [  0,   0,   0,   0,   0,   0,   0,   0,  30,  36,  94, 154, 170,\n",
       "        253, 253, 253, 253, 253, 225, 172, 253, 242, 195,  64,   0,   0,\n",
       "          0,   0],\n",
       "       [  0,   0,   0,   0,   0,   0,   0,  49, 238, 253, 253, 253, 253,\n",
       "        253, 253, 253, 253, 251,  93,  82,  82,  56,  39,   0,   0,   0,\n",
       "          0,   0],\n",
       "       [  0,   0,   0,   0,   0,   0,   0,  18, 219, 253, 253, 253, 253,\n",
       "        253, 198, 182, 247, 241,   0,   0,   0,   0,   0,   0,   0,   0,\n",
       "          0,   0],\n",
       "       [  0,   0,   0,   0,   0,   0,   0,   0,  80, 156, 107, 253, 253,\n",
       "        205,  11,   0,  43, 154,   0,   0,   0,   0,   0,   0,   0,   0,\n",
       "          0,   0],\n",
       "       [  0,   0,   0,   0,   0,   0,   0,   0,   0,  14,   1, 154, 253,\n",
       "         90,   0,   0,   0,   0,   0,   0,   0,   0,   0,   0,   0,   0,\n",
       "          0,   0],\n",
       "       [  0,   0,   0,   0,   0,   0,   0,   0,   0,   0,   0, 139, 253,\n",
       "        190,   2,   0,   0,   0,   0,   0,   0,   0,   0,   0,   0,   0,\n",
       "          0,   0],\n",
       "       [  0,   0,   0,   0,   0,   0,   0,   0,   0,   0,   0,  11, 190,\n",
       "        253,  70,   0,   0,   0,   0,   0,   0,   0,   0,   0,   0,   0,\n",
       "          0,   0],\n",
       "       [  0,   0,   0,   0,   0,   0,   0,   0,   0,   0,   0,   0,  35,\n",
       "        241, 225, 160, 108,   1,   0,   0,   0,   0,   0,   0,   0,   0,\n",
       "          0,   0],\n",
       "       [  0,   0,   0,   0,   0,   0,   0,   0,   0,   0,   0,   0,   0,\n",
       "         81, 240, 253, 253, 119,  25,   0,   0,   0,   0,   0,   0,   0,\n",
       "          0,   0],\n",
       "       [  0,   0,   0,   0,   0,   0,   0,   0,   0,   0,   0,   0,   0,\n",
       "          0,  45, 186, 253, 253, 150,  27,   0,   0,   0,   0,   0,   0,\n",
       "          0,   0],\n",
       "       [  0,   0,   0,   0,   0,   0,   0,   0,   0,   0,   0,   0,   0,\n",
       "          0,   0,  16,  93, 252, 253, 187,   0,   0,   0,   0,   0,   0,\n",
       "          0,   0],\n",
       "       [  0,   0,   0,   0,   0,   0,   0,   0,   0,   0,   0,   0,   0,\n",
       "          0,   0,   0,   0, 249, 253, 249,  64,   0,   0,   0,   0,   0,\n",
       "          0,   0],\n",
       "       [  0,   0,   0,   0,   0,   0,   0,   0,   0,   0,   0,   0,   0,\n",
       "          0,  46, 130, 183, 253, 253, 207,   2,   0,   0,   0,   0,   0,\n",
       "          0,   0],\n",
       "       [  0,   0,   0,   0,   0,   0,   0,   0,   0,   0,   0,   0,  39,\n",
       "        148, 229, 253, 253, 253, 250, 182,   0,   0,   0,   0,   0,   0,\n",
       "          0,   0],\n",
       "       [  0,   0,   0,   0,   0,   0,   0,   0,   0,   0,  24, 114, 221,\n",
       "        253, 253, 253, 253, 201,  78,   0,   0,   0,   0,   0,   0,   0,\n",
       "          0,   0],\n",
       "       [  0,   0,   0,   0,   0,   0,   0,   0,  23,  66, 213, 253, 253,\n",
       "        253, 253, 198,  81,   2,   0,   0,   0,   0,   0,   0,   0,   0,\n",
       "          0,   0],\n",
       "       [  0,   0,   0,   0,   0,   0,  18, 171, 219, 253, 253, 253, 253,\n",
       "        195,  80,   9,   0,   0,   0,   0,   0,   0,   0,   0,   0,   0,\n",
       "          0,   0],\n",
       "       [  0,   0,   0,   0,  55, 172, 226, 253, 253, 253, 253, 244, 133,\n",
       "         11,   0,   0,   0,   0,   0,   0,   0,   0,   0,   0,   0,   0,\n",
       "          0,   0],\n",
       "       [  0,   0,   0,   0, 136, 253, 253, 253, 212, 135, 132,  16,   0,\n",
       "          0,   0,   0,   0,   0,   0,   0,   0,   0,   0,   0,   0,   0,\n",
       "          0,   0],\n",
       "       [  0,   0,   0,   0,   0,   0,   0,   0,   0,   0,   0,   0,   0,\n",
       "          0,   0,   0,   0,   0,   0,   0,   0,   0,   0,   0,   0,   0,\n",
       "          0,   0],\n",
       "       [  0,   0,   0,   0,   0,   0,   0,   0,   0,   0,   0,   0,   0,\n",
       "          0,   0,   0,   0,   0,   0,   0,   0,   0,   0,   0,   0,   0,\n",
       "          0,   0],\n",
       "       [  0,   0,   0,   0,   0,   0,   0,   0,   0,   0,   0,   0,   0,\n",
       "          0,   0,   0,   0,   0,   0,   0,   0,   0,   0,   0,   0,   0,\n",
       "          0,   0]], dtype=uint8)"
      ]
     },
     "execution_count": 8,
     "metadata": {},
     "output_type": "execute_result"
    }
   ],
   "source": [
    "x_train[0]#0 -> black , 255 -> white"
   ]
  },
  {
   "cell_type": "code",
   "execution_count": 9,
   "id": "a569b047-5138-4b03-a67a-11ba0ecf6759",
   "metadata": {},
   "outputs": [
    {
     "data": {
      "text/plain": [
       "5"
      ]
     },
     "execution_count": 9,
     "metadata": {},
     "output_type": "execute_result"
    }
   ],
   "source": [
    "y_train[0]"
   ]
  },
  {
   "cell_type": "code",
   "execution_count": 10,
   "id": "936f148d-3611-4e00-80a0-aaf96ca11572",
   "metadata": {
    "editable": true,
    "slideshow": {
     "slide_type": ""
    },
    "tags": []
   },
   "outputs": [
    {
     "data": {
      "image/png": "[encoded data removed]",
      "text/plain": [
       "<Figure size 1000x100 with 10 Axes>"
      ]
     },
     "metadata": {},
     "output_type": "display_data"
    },
    {
     "name": "stdout",
     "output_type": "stream",
     "text": [
      "label for each of the above image: [5 0 4 1 9 2 1 3 1 4]\n"
     ]
    }
   ],
   "source": [
    "%matplotlib inline\n",
    "plt.figure(figsize = (10 , 1))\n",
    "for i in range(10):\n",
    "    plt.subplot(1,10,i+1)\n",
    "    plt.imshow(x_train[i], cmap='gray')\n",
    "    plt.axis('off')\n",
    "plt.show()\n",
    "print('label for each of the above image: %s' %(y_train[0:10]))"
   ]
  },
  {
   "cell_type": "markdown",
   "id": "6e47007f-507f-4e1e-ac5f-7c56ed1e4e52",
   "metadata": {},
   "source": [
    "Normalizing train and test data"
   ]
  },
  {
   "cell_type": "code",
   "execution_count": 11,
   "id": "2c1f86b1-a6df-4422-aa53-f323bbcb1eed",
   "metadata": {},
   "outputs": [
    {
     "name": "stdout",
     "output_type": "stream",
     "text": [
      "Training set (60000, 784) (60000,)\n",
      "Test set (10000, 784) (10000,)\n"
     ]
    }
   ],
   "source": [
    "# flatten the images\n",
    "image_vector_size = 28*28\n",
    "x_train = x_train.reshape(x_train.shape[0], image_vector_size)\n",
    "x_test = x_test.reshape(x_test.shape[0], image_vector_size)\n",
    "\n",
    "# normalize inputs from 0-255 to 0-1\n",
    "x_train = x_train/255.0\n",
    "x_test = x_test/255.0\n",
    "\n",
    "print('Training set',x_train.shape,y_train.shape)\n",
    "print('Test set', x_test.shape,y_test.shape)"
   ]
  },
  {
   "cell_type": "markdown",
   "id": "150bd644-8e44-42d5-8deb-9056bc938754",
   "metadata": {},
   "source": [
    "OHE the categorical variable"
   ]
  },
  {
   "cell_type": "code",
   "execution_count": 12,
   "id": "863ebcb7-ee97-4603-b6df-4f6dc87f8239",
   "metadata": {},
   "outputs": [],
   "source": [
    "#convert to one hot vectors using the to_categorical function\n",
    "num_classes = 10\n",
    "y_train = to_categorical(y_train,num_classes)\n",
    "y_test_cat = to_categorical(y_test,num_classes)"
   ]
  },
  {
   "cell_type": "code",
   "execution_count": 13,
   "id": "0ddd18d6-24ef-4679-b8bc-6230908b2c98",
   "metadata": {},
   "outputs": [
    {
     "data": {
      "text/plain": [
       "array([[0., 0., 0., 0., 0., 1., 0., 0., 0., 0.],\n",
       "       [1., 0., 0., 0., 0., 0., 0., 0., 0., 0.],\n",
       "       [0., 0., 0., 0., 1., 0., 0., 0., 0., 0.],\n",
       "       [0., 1., 0., 0., 0., 0., 0., 0., 0., 0.],\n",
       "       [0., 0., 0., 0., 0., 0., 0., 0., 0., 1.]])"
      ]
     },
     "execution_count": 13,
     "metadata": {},
     "output_type": "execute_result"
    }
   ],
   "source": [
    "y_train[:5]"
   ]
  },
  {
   "cell_type": "markdown",
   "id": "4a3daba1-6f0d-4170-9784-ae8a88ef3abe",
   "metadata": {},
   "source": [
    "Defining the sequential model"
   ]
  },
  {
   "cell_type": "code",
   "execution_count": 11,
   "id": "33303994-b357-4ae6-ae59-fa5c39bd2948",
   "metadata": {},
   "outputs": [],
   "source": [
    "#define model\n",
    "\n",
    "from tensorflow.keras import losses,optimizers,Sequential\n",
    "from tensorflow.keras.layers import Dense\n",
    "\n",
    "image_size = 28*28\n",
    "  \n",
    "model = Sequential()\n",
    "\n",
    "model.add(Dense(num_classes, activation='softmax', kernel_initializer='he_uniform',input_shape = (image_size,)))"
   ]
  },
  {
   "cell_type": "code",
   "execution_count": 12,
   "id": "7e865e0d-0de5-488a-93c8-a18df9d699ac",
   "metadata": {},
   "outputs": [],
   "source": [
    "# compile model\n",
    "adam = optimizers.Adam(learning_rate=1e-3)\n",
    "model.compile(loss=losses.categorical_crossentropy, optimizer=adam, metrics=['accuracy'])\n"
   ]
  },
  {
   "cell_type": "code",
   "execution_count": 13,
   "id": "62a34439-c598-426e-b335-f2f45c937cce",
   "metadata": {},
   "outputs": [
    {
     "data": {
      "text/html": [
       "<pre style=\"white-space:pre;overflow-x:auto;line-height:normal;font-family:Menlo,'DejaVu Sans Mono',consolas,'Courier New',monospace\"><span style=\"font-weight: bold\">Model: \"sequential\"</span>\n",
       "</pre>\n"
      ],
      "text/plain": [
       "\u001b[1mModel: \"sequential\"\u001b[0m\n"
      ]
     },
     "metadata": {},
     "output_type": "display_data"
    },
    {
     "data": {
      "text/html": [
       "<pre style=\"white-space:pre;overflow-x:auto;line-height:normal;font-family:Menlo,'DejaVu Sans Mono',consolas,'Courier New',monospace\">┏━━━━━━━━━━━━━━━━━━━━━━━━━━━━━━━━━━━━━━┳━━━━━━━━━━━━━━━━━━━━━━━━━━━━━┳━━━━━━━━━━━━━━━━━┓\n",
       "┃<span style=\"font-weight: bold\"> Layer (type)                         </span>┃<span style=\"font-weight: bold\"> Output Shape                </span>┃<span style=\"font-weight: bold\">         Param # </span>┃\n",
       "┡━━━━━━━━━━━━━━━━━━━━━━━━━━━━━━━━━━━━━━╇━━━━━━━━━━━━━━━━━━━━━━━━━━━━━╇━━━━━━━━━━━━━━━━━┩\n",
       "│ dense (<span style=\"color: #0087ff; text-decoration-color: #0087ff\">Dense</span>)                        │ (<span style=\"color: #00d7ff; text-decoration-color: #00d7ff\">None</span>, <span style=\"color: #00af00; text-decoration-color: #00af00\">10</span>)                  │           <span style=\"color: #00af00; text-decoration-color: #00af00\">7,850</span> │\n",
       "└──────────────────────────────────────┴─────────────────────────────┴─────────────────┘\n",
       "</pre>\n"
      ],
      "text/plain": [
       "┏━━━━━━━━━━━━━━━━━━━━━━━━━━━━━━━━━━━━━━┳━━━━━━━━━━━━━━━━━━━━━━━━━━━━━┳━━━━━━━━━━━━━━━━━┓\n",
       "┃\u001b[1m \u001b[0m\u001b[1mLayer (type)                        \u001b[0m\u001b[1m \u001b[0m┃\u001b[1m \u001b[0m\u001b[1mOutput Shape               \u001b[0m\u001b[1m \u001b[0m┃\u001b[1m \u001b[0m\u001b[1m        Param #\u001b[0m\u001b[1m \u001b[0m┃\n",
       "┡━━━━━━━━━━━━━━━━━━━━━━━━━━━━━━━━━━━━━━╇━━━━━━━━━━━━━━━━━━━━━━━━━━━━━╇━━━━━━━━━━━━━━━━━┩\n",
       "│ dense (\u001b[38;5;33mDense\u001b[0m)                        │ (\u001b[38;5;45mNone\u001b[0m, \u001b[38;5;34m10\u001b[0m)                  │           \u001b[38;5;34m7,850\u001b[0m │\n",
       "└──────────────────────────────────────┴─────────────────────────────┴─────────────────┘\n"
      ]
     },
     "metadata": {},
     "output_type": "display_data"
    },
    {
     "data": {
      "text/html": [
       "<pre style=\"white-space:pre;overflow-x:auto;line-height:normal;font-family:Menlo,'DejaVu Sans Mono',consolas,'Courier New',monospace\"><span style=\"font-weight: bold\"> Total params: </span><span style=\"color: #00af00; text-decoration-color: #00af00\">7,850</span> (30.66 KB)\n",
       "</pre>\n"
      ],
      "text/plain": [
       "\u001b[1m Total params: \u001b[0m\u001b[38;5;34m7,850\u001b[0m (30.66 KB)\n"
      ]
     },
     "metadata": {},
     "output_type": "display_data"
    },
    {
     "data": {
      "text/html": [
       "<pre style=\"white-space:pre;overflow-x:auto;line-height:normal;font-family:Menlo,'DejaVu Sans Mono',consolas,'Courier New',monospace\"><span style=\"font-weight: bold\"> Trainable params: </span><span style=\"color: #00af00; text-decoration-color: #00af00\">7,850</span> (30.66 KB)\n",
       "</pre>\n"
      ],
      "text/plain": [
       "\u001b[1m Trainable params: \u001b[0m\u001b[38;5;34m7,850\u001b[0m (30.66 KB)\n"
      ]
     },
     "metadata": {},
     "output_type": "display_data"
    },
    {
     "data": {
      "text/html": [
       "<pre style=\"white-space:pre;overflow-x:auto;line-height:normal;font-family:Menlo,'DejaVu Sans Mono',consolas,'Courier New',monospace\"><span style=\"font-weight: bold\"> Non-trainable params: </span><span style=\"color: #00af00; text-decoration-color: #00af00\">0</span> (0.00 B)\n",
       "</pre>\n"
      ],
      "text/plain": [
       "\u001b[1m Non-trainable params: \u001b[0m\u001b[38;5;34m0\u001b[0m (0.00 B)\n"
      ]
     },
     "metadata": {},
     "output_type": "display_data"
    }
   ],
   "source": [
    "model.summary()"
   ]
  },
  {
   "cell_type": "code",
   "execution_count": 14,
   "id": "8cd129a6-c4cb-4e5f-a066-ee4e9300cdd5",
   "metadata": {},
   "outputs": [],
   "source": [
    "#Checkpoint\n",
    "checkpoint = ModelCheckpoint(\"model_weights.weights.h5\", monitor = \"val_accuracy\",\n",
    "                            save_weights_only = True,save_best_only = True, mode = 'max', verbose = 1)\n",
    "reduce_lr = ReduceLROnPlateau(monitor='val_loss',factor=0.1, patience=2,min_lr = 0.00001,model='auto')\n",
    "callbacks = [checkpoint,reduce_lr]"
   ]
  },
  {
   "cell_type": "code",
   "execution_count": 17,
   "id": "eeb4758a-184d-4daa-b310-3a2fde10933e",
   "metadata": {
    "collapsed": true,
    "jupyter": {
     "outputs_hidden": true
    },
    "scrolled": true
   },
   "outputs": [
    {
     "name": "stdout",
     "output_type": "stream",
     "text": [
      "Epoch 1/30\n",
      "\n",
      "Epoch 1: val_accuracy improved from -inf to 0.94192, saving model to model_weights.weights.h5\n",
      "375/375 - 2s - 4ms/step - accuracy: 0.9362 - loss: 0.2318 - val_accuracy: 0.9419 - val_loss: 0.2156 - learning_rate: 0.0010\n",
      "Epoch 2/30\n",
      "\n",
      "Epoch 2: val_accuracy did not improve from 0.94192\n",
      "375/375 - 1s - 2ms/step - accuracy: 0.9362 - loss: 0.2308 - val_accuracy: 0.9417 - val_loss: 0.2190 - learning_rate: 0.0010\n",
      "Epoch 3/30\n",
      "\n",
      "Epoch 3: val_accuracy did not improve from 0.94192\n",
      "375/375 - 1s - 2ms/step - accuracy: 0.9361 - loss: 0.2308 - val_accuracy: 0.9402 - val_loss: 0.2206 - learning_rate: 0.0010\n",
      "Epoch 4/30\n",
      "\n",
      "Epoch 4: val_accuracy did not improve from 0.94192\n",
      "375/375 - 1s - 2ms/step - accuracy: 0.9374 - loss: 0.2273 - val_accuracy: 0.9408 - val_loss: 0.2204 - learning_rate: 1.0000e-04\n",
      "Epoch 5/30\n",
      "\n",
      "Epoch 5: val_accuracy did not improve from 0.94192\n",
      "375/375 - 1s - 2ms/step - accuracy: 0.9376 - loss: 0.2272 - val_accuracy: 0.9404 - val_loss: 0.2206 - learning_rate: 1.0000e-04\n",
      "Epoch 6/30\n",
      "\n",
      "Epoch 6: val_accuracy did not improve from 0.94192\n",
      "375/375 - 1s - 2ms/step - accuracy: 0.9381 - loss: 0.2267 - val_accuracy: 0.9402 - val_loss: 0.2206 - learning_rate: 1.0000e-05\n",
      "Epoch 7/30\n",
      "\n",
      "Epoch 7: val_accuracy did not improve from 0.94192\n",
      "375/375 - 1s - 2ms/step - accuracy: 0.9379 - loss: 0.2266 - val_accuracy: 0.9402 - val_loss: 0.2207 - learning_rate: 1.0000e-05\n",
      "Epoch 8/30\n",
      "\n",
      "Epoch 8: val_accuracy did not improve from 0.94192\n",
      "375/375 - 1s - 2ms/step - accuracy: 0.9381 - loss: 0.2266 - val_accuracy: 0.9402 - val_loss: 0.2207 - learning_rate: 1.0000e-05\n",
      "Epoch 9/30\n",
      "\n",
      "Epoch 9: val_accuracy did not improve from 0.94192\n",
      "375/375 - 1s - 2ms/step - accuracy: 0.9380 - loss: 0.2266 - val_accuracy: 0.9402 - val_loss: 0.2207 - learning_rate: 1.0000e-05\n",
      "Epoch 10/30\n",
      "\n",
      "Epoch 10: val_accuracy did not improve from 0.94192\n",
      "375/375 - 1s - 2ms/step - accuracy: 0.9381 - loss: 0.2266 - val_accuracy: 0.9401 - val_loss: 0.2208 - learning_rate: 1.0000e-05\n",
      "Epoch 11/30\n",
      "\n",
      "Epoch 11: val_accuracy did not improve from 0.94192\n",
      "375/375 - 1s - 2ms/step - accuracy: 0.9381 - loss: 0.2266 - val_accuracy: 0.9402 - val_loss: 0.2208 - learning_rate: 1.0000e-05\n",
      "Epoch 12/30\n",
      "\n",
      "Epoch 12: val_accuracy did not improve from 0.94192\n",
      "375/375 - 1s - 2ms/step - accuracy: 0.9380 - loss: 0.2266 - val_accuracy: 0.9401 - val_loss: 0.2208 - learning_rate: 1.0000e-05\n",
      "Epoch 13/30\n",
      "\n",
      "Epoch 13: val_accuracy did not improve from 0.94192\n",
      "375/375 - 1s - 2ms/step - accuracy: 0.9380 - loss: 0.2266 - val_accuracy: 0.9400 - val_loss: 0.2209 - learning_rate: 1.0000e-05\n",
      "Epoch 14/30\n",
      "\n",
      "Epoch 14: val_accuracy did not improve from 0.94192\n",
      "375/375 - 1s - 2ms/step - accuracy: 0.9380 - loss: 0.2266 - val_accuracy: 0.9400 - val_loss: 0.2209 - learning_rate: 1.0000e-05\n",
      "Epoch 15/30\n",
      "\n",
      "Epoch 15: val_accuracy did not improve from 0.94192\n",
      "375/375 - 1s - 2ms/step - accuracy: 0.9379 - loss: 0.2266 - val_accuracy: 0.9400 - val_loss: 0.2209 - learning_rate: 1.0000e-05\n",
      "Epoch 16/30\n",
      "\n",
      "Epoch 16: val_accuracy did not improve from 0.94192\n",
      "375/375 - 1s - 2ms/step - accuracy: 0.9381 - loss: 0.2266 - val_accuracy: 0.9400 - val_loss: 0.2210 - learning_rate: 1.0000e-05\n",
      "Epoch 17/30\n",
      "\n",
      "Epoch 17: val_accuracy did not improve from 0.94192\n",
      "375/375 - 1s - 2ms/step - accuracy: 0.9380 - loss: 0.2265 - val_accuracy: 0.9400 - val_loss: 0.2210 - learning_rate: 1.0000e-05\n",
      "Epoch 18/30\n",
      "\n",
      "Epoch 18: val_accuracy did not improve from 0.94192\n",
      "375/375 - 1s - 2ms/step - accuracy: 0.9380 - loss: 0.2265 - val_accuracy: 0.9399 - val_loss: 0.2210 - learning_rate: 1.0000e-05\n",
      "Epoch 19/30\n",
      "\n",
      "Epoch 19: val_accuracy did not improve from 0.94192\n",
      "375/375 - 1s - 2ms/step - accuracy: 0.9381 - loss: 0.2265 - val_accuracy: 0.9399 - val_loss: 0.2211 - learning_rate: 1.0000e-05\n",
      "Epoch 20/30\n",
      "\n",
      "Epoch 20: val_accuracy did not improve from 0.94192\n",
      "375/375 - 1s - 2ms/step - accuracy: 0.9380 - loss: 0.2265 - val_accuracy: 0.9399 - val_loss: 0.2211 - learning_rate: 1.0000e-05\n",
      "Epoch 21/30\n",
      "\n",
      "Epoch 21: val_accuracy did not improve from 0.94192\n",
      "375/375 - 1s - 2ms/step - accuracy: 0.9381 - loss: 0.2265 - val_accuracy: 0.9399 - val_loss: 0.2211 - learning_rate: 1.0000e-05\n",
      "Epoch 22/30\n",
      "\n",
      "Epoch 22: val_accuracy did not improve from 0.94192\n",
      "375/375 - 1s - 2ms/step - accuracy: 0.9380 - loss: 0.2265 - val_accuracy: 0.9399 - val_loss: 0.2212 - learning_rate: 1.0000e-05\n",
      "Epoch 23/30\n",
      "\n",
      "Epoch 23: val_accuracy did not improve from 0.94192\n",
      "375/375 - 1s - 2ms/step - accuracy: 0.9381 - loss: 0.2265 - val_accuracy: 0.9399 - val_loss: 0.2212 - learning_rate: 1.0000e-05\n",
      "Epoch 24/30\n",
      "\n",
      "Epoch 24: val_accuracy did not improve from 0.94192\n",
      "375/375 - 1s - 2ms/step - accuracy: 0.9381 - loss: 0.2265 - val_accuracy: 0.9399 - val_loss: 0.2212 - learning_rate: 1.0000e-05\n",
      "Epoch 25/30\n",
      "\n",
      "Epoch 25: val_accuracy did not improve from 0.94192\n",
      "375/375 - 1s - 2ms/step - accuracy: 0.9380 - loss: 0.2265 - val_accuracy: 0.9399 - val_loss: 0.2213 - learning_rate: 1.0000e-05\n",
      "Epoch 26/30\n",
      "\n",
      "Epoch 26: val_accuracy did not improve from 0.94192\n",
      "375/375 - 1s - 2ms/step - accuracy: 0.9380 - loss: 0.2265 - val_accuracy: 0.9399 - val_loss: 0.2213 - learning_rate: 1.0000e-05\n",
      "Epoch 27/30\n",
      "\n",
      "Epoch 27: val_accuracy did not improve from 0.94192\n",
      "375/375 - 1s - 2ms/step - accuracy: 0.9380 - loss: 0.2265 - val_accuracy: 0.9399 - val_loss: 0.2213 - learning_rate: 1.0000e-05\n",
      "Epoch 28/30\n",
      "\n",
      "Epoch 28: val_accuracy did not improve from 0.94192\n",
      "375/375 - 1s - 2ms/step - accuracy: 0.9380 - loss: 0.2265 - val_accuracy: 0.9398 - val_loss: 0.2213 - learning_rate: 1.0000e-05\n",
      "Epoch 29/30\n",
      "\n",
      "Epoch 29: val_accuracy did not improve from 0.94192\n",
      "375/375 - 1s - 2ms/step - accuracy: 0.9381 - loss: 0.2265 - val_accuracy: 0.9399 - val_loss: 0.2214 - learning_rate: 1.0000e-05\n",
      "Epoch 30/30\n",
      "\n",
      "Epoch 30: val_accuracy did not improve from 0.94192\n",
      "375/375 - 1s - 2ms/step - accuracy: 0.9380 - loss: 0.2264 - val_accuracy: 0.9398 - val_loss: 0.2214 - learning_rate: 1.0000e-05\n"
     ]
    }
   ],
   "source": [
    "history = model.fit(x_train,y_train, validation_split=0.2, epochs = 30,batch_size = 128, verbose = 2, callbacks = callbacks)"
   ]
  },
  {
   "cell_type": "code",
   "execution_count": 16,
   "id": "e030d58d-7d9b-4317-8f37-f8d11b97c8f1",
   "metadata": {
    "collapsed": true,
    "jupyter": {
     "outputs_hidden": true,
     "source_hidden": true
    }
   },
   "outputs": [
    {
     "name": "stdout",
     "output_type": "stream",
     "text": [
      "Epoch 1/20\n",
      "\u001b[1m1875/1875\u001b[0m \u001b[32m━━━━━━━━━━━━━━━━━━━━\u001b[0m\u001b[37m\u001b[0m \u001b[1m3s\u001b[0m 1ms/step - accuracy: 0.9281 - loss: 0.2586 - learning_rate: 0.0010\n",
      "Epoch 2/20\n",
      "\u001b[1m1875/1875\u001b[0m \u001b[32m━━━━━━━━━━━━━━━━━━━━\u001b[0m\u001b[37m\u001b[0m \u001b[1m3s\u001b[0m 1ms/step - accuracy: 0.9298 - loss: 0.2530 - learning_rate: 0.0010\n",
      "Epoch 3/20\n",
      "\u001b[1m1875/1875\u001b[0m \u001b[32m━━━━━━━━━━━━━━━━━━━━\u001b[0m\u001b[37m\u001b[0m \u001b[1m2s\u001b[0m 1ms/step - accuracy: 0.9311 - loss: 0.2489 - learning_rate: 0.0010\n",
      "Epoch 4/20\n",
      "\u001b[1m1875/1875\u001b[0m \u001b[32m━━━━━━━━━━━━━━━━━━━━\u001b[0m\u001b[37m\u001b[0m \u001b[1m2s\u001b[0m 1ms/step - accuracy: 0.9320 - loss: 0.2476 - learning_rate: 0.0010\n",
      "Epoch 5/20\n",
      "\u001b[1m1875/1875\u001b[0m \u001b[32m━━━━━━━━━━━━━━━━━━━━\u001b[0m\u001b[37m\u001b[0m \u001b[1m2s\u001b[0m 1ms/step - accuracy: 0.9303 - loss: 0.2515 - learning_rate: 0.0010\n",
      "Epoch 6/20\n",
      "\u001b[1m1875/1875\u001b[0m \u001b[32m━━━━━━━━━━━━━━━━━━━━\u001b[0m\u001b[37m\u001b[0m \u001b[1m2s\u001b[0m 1ms/step - accuracy: 0.9331 - loss: 0.2447 - learning_rate: 0.0010\n",
      "Epoch 7/20\n",
      "\u001b[1m1875/1875\u001b[0m \u001b[32m━━━━━━━━━━━━━━━━━━━━\u001b[0m\u001b[37m\u001b[0m \u001b[1m2s\u001b[0m 1ms/step - accuracy: 0.9325 - loss: 0.2440 - learning_rate: 0.0010\n",
      "Epoch 8/20\n",
      "\u001b[1m1875/1875\u001b[0m \u001b[32m━━━━━━━━━━━━━━━━━━━━\u001b[0m\u001b[37m\u001b[0m \u001b[1m2s\u001b[0m 1ms/step - accuracy: 0.9346 - loss: 0.2424 - learning_rate: 0.0010\n",
      "Epoch 9/20\n",
      "\u001b[1m1875/1875\u001b[0m \u001b[32m━━━━━━━━━━━━━━━━━━━━\u001b[0m\u001b[37m\u001b[0m \u001b[1m2s\u001b[0m 1ms/step - accuracy: 0.9326 - loss: 0.2438 - learning_rate: 0.0010\n",
      "Epoch 10/20\n",
      "\u001b[1m1875/1875\u001b[0m \u001b[32m━━━━━━━━━━━━━━━━━━━━\u001b[0m\u001b[37m\u001b[0m \u001b[1m2s\u001b[0m 1ms/step - accuracy: 0.9330 - loss: 0.2438 - learning_rate: 0.0010\n",
      "Epoch 11/20\n",
      "\u001b[1m1875/1875\u001b[0m \u001b[32m━━━━━━━━━━━━━━━━━━━━\u001b[0m\u001b[37m\u001b[0m \u001b[1m2s\u001b[0m 1ms/step - accuracy: 0.9338 - loss: 0.2381 - learning_rate: 0.0010\n",
      "Epoch 12/20\n",
      "\u001b[1m1875/1875\u001b[0m \u001b[32m━━━━━━━━━━━━━━━━━━━━\u001b[0m\u001b[37m\u001b[0m \u001b[1m2s\u001b[0m 1ms/step - accuracy: 0.9340 - loss: 0.2381 - learning_rate: 0.0010\n",
      "Epoch 13/20\n",
      "\u001b[1m1875/1875\u001b[0m \u001b[32m━━━━━━━━━━━━━━━━━━━━\u001b[0m\u001b[37m\u001b[0m \u001b[1m2s\u001b[0m 1ms/step - accuracy: 0.9345 - loss: 0.2364 - learning_rate: 0.0010\n",
      "Epoch 14/20\n",
      "\u001b[1m1875/1875\u001b[0m \u001b[32m━━━━━━━━━━━━━━━━━━━━\u001b[0m\u001b[37m\u001b[0m \u001b[1m2s\u001b[0m 1ms/step - accuracy: 0.9354 - loss: 0.2385 - learning_rate: 0.0010\n",
      "Epoch 15/20\n",
      "\u001b[1m1875/1875\u001b[0m \u001b[32m━━━━━━━━━━━━━━━━━━━━\u001b[0m\u001b[37m\u001b[0m \u001b[1m2s\u001b[0m 1ms/step - accuracy: 0.9348 - loss: 0.2374 - learning_rate: 0.0010\n",
      "Epoch 16/20\n",
      "\u001b[1m1875/1875\u001b[0m \u001b[32m━━━━━━━━━━━━━━━━━━━━\u001b[0m\u001b[37m\u001b[0m \u001b[1m2s\u001b[0m 1ms/step - accuracy: 0.9361 - loss: 0.2325 - learning_rate: 0.0010\n",
      "Epoch 17/20\n",
      "\u001b[1m1875/1875\u001b[0m \u001b[32m━━━━━━━━━━━━━━━━━━━━\u001b[0m\u001b[37m\u001b[0m \u001b[1m2s\u001b[0m 1ms/step - accuracy: 0.9348 - loss: 0.2368 - learning_rate: 0.0010\n",
      "Epoch 18/20\n",
      "\u001b[1m1875/1875\u001b[0m \u001b[32m━━━━━━━━━━━━━━━━━━━━\u001b[0m\u001b[37m\u001b[0m \u001b[1m2s\u001b[0m 1ms/step - accuracy: 0.9378 - loss: 0.2315 - learning_rate: 0.0010\n",
      "Epoch 19/20\n",
      "\u001b[1m1875/1875\u001b[0m \u001b[32m━━━━━━━━━━━━━━━━━━━━\u001b[0m\u001b[37m\u001b[0m \u001b[1m2s\u001b[0m 1ms/step - accuracy: 0.9348 - loss: 0.2358 - learning_rate: 0.0010\n",
      "Epoch 20/20\n",
      "\u001b[1m1875/1875\u001b[0m \u001b[32m━━━━━━━━━━━━━━━━━━━━\u001b[0m\u001b[37m\u001b[0m \u001b[1m2s\u001b[0m 1ms/step - accuracy: 0.9330 - loss: 0.2364 - learning_rate: 0.0010\n"
     ]
    }
   ],
   "source": [
    "from tensorflow.keras.models import load_model\n",
    "from tensorflow.keras import optimizers, losses\n",
    "model.load_weights('model_weights.weights.h5')\n",
    "adam = optimizers.Adam(learning_rate=1e-3)\n",
    "model.compile(loss=losses.categorical_crossentropy, optimizer=adam, metrics=['accuracy'])\n",
    "from tensorflow.keras.callbacks import ModelCheckpoint, ReduceLROnPlateau\n",
    "\n",
    "# Define callbacks\n",
    "checkpoint = ModelCheckpoint(\"model_weights.weights.h5\", monitor=\"val_accuracy\",\n",
    "                             save_weights_only=True,save_best_only=True, mode='max', verbose=1)\n",
    "\n",
    "reduce_lr = ReduceLROnPlateau(monitor='val_loss', factor=0.1, patience=2, min_lr=0.00001)\n",
    "\n",
    "callbacks = [checkpoint, reduce_lr]\n",
    "\n",
    "# Continue training\n",
    "history = model.fit(\n",
    "    x_train, y_train,  # Replace with your training data\n",
    "    epochs=20,  # Set the number of additional epochs\n",
    "   # validation_data=(x_val, y_val),  # Replace with your validation data\n",
    "    callbacks=callbacks\n",
    ")\n"
   ]
  },
  {
   "cell_type": "code",
   "execution_count": 65,
   "id": "1eee8722-3e2d-40a1-84e1-9611f8cfc78f",
   "metadata": {},
   "outputs": [
    {
     "data": {
      "text/plain": [
       "\"from tensorflow.keras.models import Model\\nfrom tensorflow.keras import optimizers, losses\\nfrom tensorflow.keras.callbacks import ModelCheckpoint\\n\\n# Define your model architecture here\\nmodel = ...  # Your model definition\\n\\n# Compile the model\\nadam = optimizers.Adam(learning_rate=1e-3)\\nmodel.compile(loss=losses.categorical_crossentropy, optimizer=adam, metrics=['accuracy'])\\n\\n# Define the checkpoint callback to save the best model weights\\ncheckpoint = ModelCheckpoint(\\n    'model_weights_best.weights.h5',  # Path where the best weights will be saved\\n    monitor='val_accuracy',           # Metric to monitor\\n    save_weights_only=True,            # Save only weights\\n    save_best_only=True,               # Save only the best weights\\n    mode='max',                       # Mode is 'max' for accuracy\\n    verbose=1                         # Verbosity mode\\n)\\n\\n# Train the model\\nhistory = model.fit(\\n    x_train, y_train,                # Your training data\\n    epochs=additional_epochs,        # Number of epochs to train\\n    validation_data=(x_val, y_val),  # Your validation data\\n    callbacks=[checkpoint]           # Callbacks to use\\n)\\n\""
      ]
     },
     "execution_count": 65,
     "metadata": {},
     "output_type": "execute_result"
    }
   ],
   "source": [
    "'''from tensorflow.keras.models import Model\n",
    "from tensorflow.keras import optimizers, losses\n",
    "from tensorflow.keras.callbacks import ModelCheckpoint\n",
    "\n",
    "# Define your model architecture here\n",
    "model = ...  # Your model definition\n",
    "\n",
    "# Compile the model\n",
    "adam = optimizers.Adam(learning_rate=1e-3)\n",
    "model.compile(loss=losses.categorical_crossentropy, optimizer=adam, metrics=['accuracy'])\n",
    "\n",
    "# Define the checkpoint callback to save the best model weights\n",
    "checkpoint = ModelCheckpoint(\n",
    "    'model_weights_best.weights.h5',  # Path where the best weights will be saved\n",
    "    monitor='val_accuracy',           # Metric to monitor\n",
    "    save_weights_only=True,            # Save only weights\n",
    "    save_best_only=True,               # Save only the best weights\n",
    "    mode='max',                       # Mode is 'max' for accuracy\n",
    "    verbose=1                         # Verbosity mode\n",
    ")\n",
    "\n",
    "# Train the model\n",
    "history = model.fit(\n",
    "    x_train, y_train,                # Your training data\n",
    "    epochs=additional_epochs,        # Number of epochs to train\n",
    "    validation_data=(x_val, y_val),  # Your validation data\n",
    "    callbacks=[checkpoint]           # Callbacks to use\n",
    ")\n",
    "'''"
   ]
  },
  {
   "cell_type": "code",
   "execution_count": 18,
   "id": "ab77bbb4-02fe-4411-a72f-1595647251f7",
   "metadata": {},
   "outputs": [
    {
     "name": "stdout",
     "output_type": "stream",
     "text": [
      "\u001b[1m313/313\u001b[0m \u001b[32m━━━━━━━━━━━━━━━━━━━━\u001b[0m\u001b[37m\u001b[0m \u001b[1m0s\u001b[0m 1ms/step\n"
     ]
    }
   ],
   "source": [
    "y_pred = model.predict(x_test)"
   ]
  },
  {
   "cell_type": "code",
   "execution_count": 19,
   "id": "f9a4dfaa-d56f-42da-9cdb-a029c114a7ea",
   "metadata": {},
   "outputs": [
    {
     "data": {
      "text/plain": [
       "array([8.1237683e-09, 5.6109915e-15, 6.0138717e-08, 4.3769195e-03,\n",
       "       8.2659128e-08, 1.6191174e-05, 9.8698981e-15, 9.9536800e-01,\n",
       "       7.6504666e-06, 2.3103679e-04], dtype=float32)"
      ]
     },
     "execution_count": 19,
     "metadata": {},
     "output_type": "execute_result"
    }
   ],
   "source": [
    "y_pred[0]"
   ]
  },
  {
   "cell_type": "code",
   "execution_count": 20,
   "id": "1b93b82c-c1f2-46df-968f-ed8cd362457e",
   "metadata": {},
   "outputs": [],
   "source": [
    "y_pred_final = []\n",
    "for i in y_pred:\n",
    "    y_pred_final.append(np.argmax(i))"
   ]
  },
  {
   "cell_type": "code",
   "execution_count": 21,
   "id": "5214ac21-b0fd-4cf8-9d2c-89bd5bb09723",
   "metadata": {},
   "outputs": [
    {
     "data": {
      "text/plain": [
       "7"
      ]
     },
     "execution_count": 21,
     "metadata": {},
     "output_type": "execute_result"
    }
   ],
   "source": [
    "y_pred_final[0]"
   ]
  },
  {
   "cell_type": "code",
   "execution_count": 22,
   "id": "d3c90287-623a-44e2-9759-a1e8d7b98577",
   "metadata": {},
   "outputs": [
    {
     "name": "stdout",
     "output_type": "stream",
     "text": [
      "              precision    recall  f1-score   support\n",
      "\n",
      "           0       0.95      0.98      0.96       980\n",
      "           1       0.97      0.98      0.97      1135\n",
      "           2       0.93      0.91      0.92      1032\n",
      "           3       0.91      0.91      0.91      1010\n",
      "           4       0.94      0.93      0.94       982\n",
      "           5       0.91      0.87      0.89       892\n",
      "           6       0.94      0.95      0.95       958\n",
      "           7       0.93      0.93      0.93      1028\n",
      "           8       0.88      0.90      0.89       974\n",
      "           9       0.91      0.91      0.91      1009\n",
      "\n",
      "    accuracy                           0.93     10000\n",
      "   macro avg       0.93      0.93      0.93     10000\n",
      "weighted avg       0.93      0.93      0.93     10000\n",
      "\n"
     ]
    }
   ],
   "source": [
    "from sklearn.metrics import classification_report, confusion_matrix\n",
    "print(classification_report(y_test, y_pred_final))"
   ]
  },
  {
   "cell_type": "code",
   "execution_count": 25,
   "id": "4d1c7585-77bf-42e1-8b42-036d12d75449",
   "metadata": {},
   "outputs": [
    {
     "data": {
      "image/png": "[encoded data removed]",
      "text/plain": [
       "<Figure size 1000x700 with 2 Axes>"
      ]
     },
     "metadata": {},
     "output_type": "display_data"
    }
   ],
   "source": [
    "import seaborn as sns\n",
    "cm = confusion_matrix(y_test,y_pred_final)\n",
    "plt.figure(figsize = (10,7))\n",
    "sns.heatmap(cm,annot=True,fmt = 'd')\n",
    "plt.xlabel('Predicted')\n",
    "plt.ylabel('Truth')\n",
    "plt.show()"
   ]
  },
  {
   "cell_type": "code",
   "execution_count": 26,
   "id": "eb020a09-8bb3-44dd-9136-d57589ceed47",
   "metadata": {},
   "outputs": [],
   "source": [
    "#define model\n",
    "\n",
    "from tensorflow.keras import losses,optimizers,Sequential\n",
    "from tensorflow.keras.layers import Dense\n",
    "\n",
    "image_size = 28*28\n",
    "  \n",
    "model = Sequential()\n",
    "\n",
    "model.add(Dense(256, activation='relu', kernel_initializer = 'he_uniform',input_shape = (image_size,)))\n",
    "model.add(Dense(128, activation='relu',kernel_initializer = 'he_uniform'))\n",
    "model.add(Dense(64, activation='relu',kernel_initializer = 'he_uniform'))\n",
    "model.add(Dense(32, activation='relu',kernel_initializer = 'he_uniform'))\n",
    "\n",
    "model.add(Dense(num_classes,activation='softmax'))"
   ]
  },
  {
   "cell_type": "code",
   "execution_count": 27,
   "id": "87da741e-b15a-4beb-a1ad-ffb8d9e54aa6",
   "metadata": {},
   "outputs": [],
   "source": [
    "# compile model\n",
    "adam = optimizers.Adam(learning_rate=1e-3)\n",
    "model.compile(loss=losses.categorical_crossentropy, optimizer=adam, metrics=['accuracy'])\n"
   ]
  },
  {
   "cell_type": "code",
   "execution_count": 28,
   "id": "d49c65ab-3cb2-4801-918f-ae808b5816c7",
   "metadata": {},
   "outputs": [
    {
     "data": {
      "text/html": [
       "<pre style=\"white-space:pre;overflow-x:auto;line-height:normal;font-family:Menlo,'DejaVu Sans Mono',consolas,'Courier New',monospace\"><span style=\"font-weight: bold\">Model: \"sequential_1\"</span>\n",
       "</pre>\n"
      ],
      "text/plain": [
       "\u001b[1mModel: \"sequential_1\"\u001b[0m\n"
      ]
     },
     "metadata": {},
     "output_type": "display_data"
    },
    {
     "data": {
      "text/html": [
       "<pre style=\"white-space:pre;overflow-x:auto;line-height:normal;font-family:Menlo,'DejaVu Sans Mono',consolas,'Courier New',monospace\">┏━━━━━━━━━━━━━━━━━━━━━━━━━━━━━━━━━━━━━━┳━━━━━━━━━━━━━━━━━━━━━━━━━━━━━┳━━━━━━━━━━━━━━━━━┓\n",
       "┃<span style=\"font-weight: bold\"> Layer (type)                         </span>┃<span style=\"font-weight: bold\"> Output Shape                </span>┃<span style=\"font-weight: bold\">         Param # </span>┃\n",
       "┡━━━━━━━━━━━━━━━━━━━━━━━━━━━━━━━━━━━━━━╇━━━━━━━━━━━━━━━━━━━━━━━━━━━━━╇━━━━━━━━━━━━━━━━━┩\n",
       "│ dense_1 (<span style=\"color: #0087ff; text-decoration-color: #0087ff\">Dense</span>)                      │ (<span style=\"color: #00d7ff; text-decoration-color: #00d7ff\">None</span>, <span style=\"color: #00af00; text-decoration-color: #00af00\">256</span>)                 │         <span style=\"color: #00af00; text-decoration-color: #00af00\">200,960</span> │\n",
       "├──────────────────────────────────────┼─────────────────────────────┼─────────────────┤\n",
       "│ dense_2 (<span style=\"color: #0087ff; text-decoration-color: #0087ff\">Dense</span>)                      │ (<span style=\"color: #00d7ff; text-decoration-color: #00d7ff\">None</span>, <span style=\"color: #00af00; text-decoration-color: #00af00\">128</span>)                 │          <span style=\"color: #00af00; text-decoration-color: #00af00\">32,896</span> │\n",
       "├──────────────────────────────────────┼─────────────────────────────┼─────────────────┤\n",
       "│ dense_3 (<span style=\"color: #0087ff; text-decoration-color: #0087ff\">Dense</span>)                      │ (<span style=\"color: #00d7ff; text-decoration-color: #00d7ff\">None</span>, <span style=\"color: #00af00; text-decoration-color: #00af00\">64</span>)                  │           <span style=\"color: #00af00; text-decoration-color: #00af00\">8,256</span> │\n",
       "├──────────────────────────────────────┼─────────────────────────────┼─────────────────┤\n",
       "│ dense_4 (<span style=\"color: #0087ff; text-decoration-color: #0087ff\">Dense</span>)                      │ (<span style=\"color: #00d7ff; text-decoration-color: #00d7ff\">None</span>, <span style=\"color: #00af00; text-decoration-color: #00af00\">32</span>)                  │           <span style=\"color: #00af00; text-decoration-color: #00af00\">2,080</span> │\n",
       "├──────────────────────────────────────┼─────────────────────────────┼─────────────────┤\n",
       "│ dense_5 (<span style=\"color: #0087ff; text-decoration-color: #0087ff\">Dense</span>)                      │ (<span style=\"color: #00d7ff; text-decoration-color: #00d7ff\">None</span>, <span style=\"color: #00af00; text-decoration-color: #00af00\">10</span>)                  │             <span style=\"color: #00af00; text-decoration-color: #00af00\">330</span> │\n",
       "└──────────────────────────────────────┴─────────────────────────────┴─────────────────┘\n",
       "</pre>\n"
      ],
      "text/plain": [
       "┏━━━━━━━━━━━━━━━━━━━━━━━━━━━━━━━━━━━━━━┳━━━━━━━━━━━━━━━━━━━━━━━━━━━━━┳━━━━━━━━━━━━━━━━━┓\n",
       "┃\u001b[1m \u001b[0m\u001b[1mLayer (type)                        \u001b[0m\u001b[1m \u001b[0m┃\u001b[1m \u001b[0m\u001b[1mOutput Shape               \u001b[0m\u001b[1m \u001b[0m┃\u001b[1m \u001b[0m\u001b[1m        Param #\u001b[0m\u001b[1m \u001b[0m┃\n",
       "┡━━━━━━━━━━━━━━━━━━━━━━━━━━━━━━━━━━━━━━╇━━━━━━━━━━━━━━━━━━━━━━━━━━━━━╇━━━━━━━━━━━━━━━━━┩\n",
       "│ dense_1 (\u001b[38;5;33mDense\u001b[0m)                      │ (\u001b[38;5;45mNone\u001b[0m, \u001b[38;5;34m256\u001b[0m)                 │         \u001b[38;5;34m200,960\u001b[0m │\n",
       "├──────────────────────────────────────┼─────────────────────────────┼─────────────────┤\n",
       "│ dense_2 (\u001b[38;5;33mDense\u001b[0m)                      │ (\u001b[38;5;45mNone\u001b[0m, \u001b[38;5;34m128\u001b[0m)                 │          \u001b[38;5;34m32,896\u001b[0m │\n",
       "├──────────────────────────────────────┼─────────────────────────────┼─────────────────┤\n",
       "│ dense_3 (\u001b[38;5;33mDense\u001b[0m)                      │ (\u001b[38;5;45mNone\u001b[0m, \u001b[38;5;34m64\u001b[0m)                  │           \u001b[38;5;34m8,256\u001b[0m │\n",
       "├──────────────────────────────────────┼─────────────────────────────┼─────────────────┤\n",
       "│ dense_4 (\u001b[38;5;33mDense\u001b[0m)                      │ (\u001b[38;5;45mNone\u001b[0m, \u001b[38;5;34m32\u001b[0m)                  │           \u001b[38;5;34m2,080\u001b[0m │\n",
       "├──────────────────────────────────────┼─────────────────────────────┼─────────────────┤\n",
       "│ dense_5 (\u001b[38;5;33mDense\u001b[0m)                      │ (\u001b[38;5;45mNone\u001b[0m, \u001b[38;5;34m10\u001b[0m)                  │             \u001b[38;5;34m330\u001b[0m │\n",
       "└──────────────────────────────────────┴─────────────────────────────┴─────────────────┘\n"
      ]
     },
     "metadata": {},
     "output_type": "display_data"
    },
    {
     "data": {
      "text/html": [
       "<pre style=\"white-space:pre;overflow-x:auto;line-height:normal;font-family:Menlo,'DejaVu Sans Mono',consolas,'Courier New',monospace\"><span style=\"font-weight: bold\"> Total params: </span><span style=\"color: #00af00; text-decoration-color: #00af00\">244,522</span> (955.16 KB)\n",
       "</pre>\n"
      ],
      "text/plain": [
       "\u001b[1m Total params: \u001b[0m\u001b[38;5;34m244,522\u001b[0m (955.16 KB)\n"
      ]
     },
     "metadata": {},
     "output_type": "display_data"
    },
    {
     "data": {
      "text/html": [
       "<pre style=\"white-space:pre;overflow-x:auto;line-height:normal;font-family:Menlo,'DejaVu Sans Mono',consolas,'Courier New',monospace\"><span style=\"font-weight: bold\"> Trainable params: </span><span style=\"color: #00af00; text-decoration-color: #00af00\">244,522</span> (955.16 KB)\n",
       "</pre>\n"
      ],
      "text/plain": [
       "\u001b[1m Trainable params: \u001b[0m\u001b[38;5;34m244,522\u001b[0m (955.16 KB)\n"
      ]
     },
     "metadata": {},
     "output_type": "display_data"
    },
    {
     "data": {
      "text/html": [
       "<pre style=\"white-space:pre;overflow-x:auto;line-height:normal;font-family:Menlo,'DejaVu Sans Mono',consolas,'Courier New',monospace\"><span style=\"font-weight: bold\"> Non-trainable params: </span><span style=\"color: #00af00; text-decoration-color: #00af00\">0</span> (0.00 B)\n",
       "</pre>\n"
      ],
      "text/plain": [
       "\u001b[1m Non-trainable params: \u001b[0m\u001b[38;5;34m0\u001b[0m (0.00 B)\n"
      ]
     },
     "metadata": {},
     "output_type": "display_data"
    }
   ],
   "source": [
    "model.summary()"
   ]
  },
  {
   "cell_type": "code",
   "execution_count": 29,
   "id": "13cd041f-f453-449f-aa40-9ab9c2fb12d2",
   "metadata": {},
   "outputs": [],
   "source": [
    "#Checkpoint\n",
    "checkpoint = ModelCheckpoint(\"model_weights.weights.h5\", monitor = \"val_accuracy\",\n",
    "                            save_weights_only = True,save_best_only = True, mode = 'max', verbose = 1)\n",
    "reduce_lr = ReduceLROnPlateau(monitor='val_loss',factor=0.1, patience=2,min_lr = 0.00001,model='auto')\n",
    "callbacks = [checkpoint,reduce_lr]"
   ]
  },
  {
   "cell_type": "code",
   "execution_count": 30,
   "id": "4c48ddf0-8b76-4d29-8f50-4906397c481c",
   "metadata": {
    "collapsed": true,
    "jupyter": {
     "outputs_hidden": true
    }
   },
   "outputs": [
    {
     "name": "stdout",
     "output_type": "stream",
     "text": [
      "Epoch 1/30\n",
      "\n",
      "Epoch 1: val_accuracy improved from -inf to 0.95558, saving model to model_weights.weights.h5\n",
      "375/375 - 5s - 13ms/step - accuracy: 0.9030 - loss: 0.3228 - val_accuracy: 0.9556 - val_loss: 0.1479 - learning_rate: 0.0010\n",
      "Epoch 2/30\n",
      "\n",
      "Epoch 2: val_accuracy improved from 0.95558 to 0.96000, saving model to model_weights.weights.h5\n",
      "375/375 - 2s - 5ms/step - accuracy: 0.9652 - loss: 0.1157 - val_accuracy: 0.9600 - val_loss: 0.1293 - learning_rate: 0.0010\n",
      "Epoch 3/30\n",
      "\n",
      "Epoch 3: val_accuracy improved from 0.96000 to 0.96933, saving model to model_weights.weights.h5\n",
      "375/375 - 2s - 5ms/step - accuracy: 0.9763 - loss: 0.0784 - val_accuracy: 0.9693 - val_loss: 0.1010 - learning_rate: 0.0010\n",
      "Epoch 4/30\n",
      "\n",
      "Epoch 4: val_accuracy improved from 0.96933 to 0.97250, saving model to model_weights.weights.h5\n",
      "375/375 - 2s - 5ms/step - accuracy: 0.9827 - loss: 0.0539 - val_accuracy: 0.9725 - val_loss: 0.0977 - learning_rate: 0.0010\n",
      "Epoch 5/30\n",
      "\n",
      "Epoch 5: val_accuracy did not improve from 0.97250\n",
      "375/375 - 2s - 5ms/step - accuracy: 0.9867 - loss: 0.0400 - val_accuracy: 0.9704 - val_loss: 0.1052 - learning_rate: 0.0010\n",
      "Epoch 6/30\n",
      "\n",
      "Epoch 6: val_accuracy improved from 0.97250 to 0.97508, saving model to model_weights.weights.h5\n",
      "375/375 - 2s - 5ms/step - accuracy: 0.9893 - loss: 0.0331 - val_accuracy: 0.9751 - val_loss: 0.0925 - learning_rate: 0.0010\n",
      "Epoch 7/30\n",
      "\n",
      "Epoch 7: val_accuracy improved from 0.97508 to 0.97725, saving model to model_weights.weights.h5\n",
      "375/375 - 2s - 6ms/step - accuracy: 0.9922 - loss: 0.0247 - val_accuracy: 0.9772 - val_loss: 0.0909 - learning_rate: 0.0010\n",
      "Epoch 8/30\n",
      "\n",
      "Epoch 8: val_accuracy did not improve from 0.97725\n",
      "375/375 - 2s - 5ms/step - accuracy: 0.9920 - loss: 0.0235 - val_accuracy: 0.9721 - val_loss: 0.1080 - learning_rate: 0.0010\n",
      "Epoch 9/30\n",
      "\n",
      "Epoch 9: val_accuracy did not improve from 0.97725\n",
      "375/375 - 2s - 5ms/step - accuracy: 0.9940 - loss: 0.0178 - val_accuracy: 0.9702 - val_loss: 0.1221 - learning_rate: 0.0010\n",
      "Epoch 10/30\n",
      "\n",
      "Epoch 10: val_accuracy improved from 0.97725 to 0.97917, saving model to model_weights.weights.h5\n",
      "375/375 - 2s - 5ms/step - accuracy: 0.9987 - loss: 0.0052 - val_accuracy: 0.9792 - val_loss: 0.0865 - learning_rate: 1.0000e-04\n",
      "Epoch 11/30\n",
      "\n",
      "Epoch 11: val_accuracy improved from 0.97917 to 0.98033, saving model to model_weights.weights.h5\n",
      "375/375 - 2s - 5ms/step - accuracy: 0.9997 - loss: 0.0024 - val_accuracy: 0.9803 - val_loss: 0.0858 - learning_rate: 1.0000e-04\n",
      "Epoch 12/30\n",
      "\n",
      "Epoch 12: val_accuracy did not improve from 0.98033\n",
      "375/375 - 2s - 5ms/step - accuracy: 0.9999 - loss: 0.0017 - val_accuracy: 0.9803 - val_loss: 0.0864 - learning_rate: 1.0000e-04\n",
      "Epoch 13/30\n",
      "\n",
      "Epoch 13: val_accuracy did not improve from 0.98033\n",
      "375/375 - 2s - 5ms/step - accuracy: 0.9999 - loss: 0.0014 - val_accuracy: 0.9803 - val_loss: 0.0874 - learning_rate: 1.0000e-04\n",
      "Epoch 14/30\n",
      "\n",
      "Epoch 14: val_accuracy did not improve from 0.98033\n",
      "375/375 - 2s - 5ms/step - accuracy: 0.9999 - loss: 0.0011 - val_accuracy: 0.9803 - val_loss: 0.0875 - learning_rate: 1.0000e-05\n",
      "Epoch 15/30\n",
      "\n",
      "Epoch 15: val_accuracy did not improve from 0.98033\n",
      "375/375 - 2s - 5ms/step - accuracy: 0.9999 - loss: 0.0011 - val_accuracy: 0.9803 - val_loss: 0.0877 - learning_rate: 1.0000e-05\n",
      "Epoch 16/30\n",
      "\n",
      "Epoch 16: val_accuracy did not improve from 0.98033\n",
      "375/375 - 2s - 5ms/step - accuracy: 0.9999 - loss: 0.0010 - val_accuracy: 0.9803 - val_loss: 0.0879 - learning_rate: 1.0000e-05\n",
      "Epoch 17/30\n",
      "\n",
      "Epoch 17: val_accuracy did not improve from 0.98033\n",
      "375/375 - 2s - 5ms/step - accuracy: 1.0000 - loss: 9.9644e-04 - val_accuracy: 0.9803 - val_loss: 0.0880 - learning_rate: 1.0000e-05\n",
      "Epoch 18/30\n",
      "\n",
      "Epoch 18: val_accuracy did not improve from 0.98033\n",
      "375/375 - 2s - 5ms/step - accuracy: 1.0000 - loss: 9.6666e-04 - val_accuracy: 0.9803 - val_loss: 0.0884 - learning_rate: 1.0000e-05\n",
      "Epoch 19/30\n",
      "\n",
      "Epoch 19: val_accuracy improved from 0.98033 to 0.98042, saving model to model_weights.weights.h5\n",
      "375/375 - 2s - 5ms/step - accuracy: 1.0000 - loss: 9.3319e-04 - val_accuracy: 0.9804 - val_loss: 0.0887 - learning_rate: 1.0000e-05\n",
      "Epoch 20/30\n",
      "\n",
      "Epoch 20: val_accuracy improved from 0.98042 to 0.98050, saving model to model_weights.weights.h5\n",
      "375/375 - 2s - 6ms/step - accuracy: 1.0000 - loss: 8.9685e-04 - val_accuracy: 0.9805 - val_loss: 0.0890 - learning_rate: 1.0000e-05\n",
      "Epoch 21/30\n",
      "\n",
      "Epoch 21: val_accuracy improved from 0.98050 to 0.98067, saving model to model_weights.weights.h5\n",
      "375/375 - 2s - 5ms/step - accuracy: 1.0000 - loss: 8.5991e-04 - val_accuracy: 0.9807 - val_loss: 0.0892 - learning_rate: 1.0000e-05\n",
      "Epoch 22/30\n",
      "\n",
      "Epoch 22: val_accuracy improved from 0.98067 to 0.98092, saving model to model_weights.weights.h5\n",
      "375/375 - 2s - 5ms/step - accuracy: 1.0000 - loss: 8.2195e-04 - val_accuracy: 0.9809 - val_loss: 0.0897 - learning_rate: 1.0000e-05\n",
      "Epoch 23/30\n",
      "\n",
      "Epoch 23: val_accuracy did not improve from 0.98092\n",
      "375/375 - 2s - 5ms/step - accuracy: 1.0000 - loss: 7.7793e-04 - val_accuracy: 0.9809 - val_loss: 0.0903 - learning_rate: 1.0000e-05\n",
      "Epoch 24/30\n",
      "\n",
      "Epoch 24: val_accuracy did not improve from 0.98092\n",
      "375/375 - 2s - 5ms/step - accuracy: 1.0000 - loss: 7.3782e-04 - val_accuracy: 0.9808 - val_loss: 0.0908 - learning_rate: 1.0000e-05\n",
      "Epoch 25/30\n",
      "\n",
      "Epoch 25: val_accuracy improved from 0.98092 to 0.98125, saving model to model_weights.weights.h5\n",
      "375/375 - 2s - 5ms/step - accuracy: 1.0000 - loss: 6.9700e-04 - val_accuracy: 0.9812 - val_loss: 0.0912 - learning_rate: 1.0000e-05\n",
      "Epoch 26/30\n",
      "\n",
      "Epoch 26: val_accuracy did not improve from 0.98125\n",
      "375/375 - 2s - 5ms/step - accuracy: 1.0000 - loss: 6.5514e-04 - val_accuracy: 0.9810 - val_loss: 0.0919 - learning_rate: 1.0000e-05\n",
      "Epoch 27/30\n",
      "\n",
      "Epoch 27: val_accuracy improved from 0.98125 to 0.98142, saving model to model_weights.weights.h5\n",
      "375/375 - 2s - 5ms/step - accuracy: 1.0000 - loss: 6.1458e-04 - val_accuracy: 0.9814 - val_loss: 0.0924 - learning_rate: 1.0000e-05\n",
      "Epoch 28/30\n",
      "\n",
      "Epoch 28: val_accuracy did not improve from 0.98142\n",
      "375/375 - 2s - 5ms/step - accuracy: 1.0000 - loss: 5.7606e-04 - val_accuracy: 0.9809 - val_loss: 0.0928 - learning_rate: 1.0000e-05\n",
      "Epoch 29/30\n",
      "\n",
      "Epoch 29: val_accuracy did not improve from 0.98142\n",
      "375/375 - 2s - 5ms/step - accuracy: 1.0000 - loss: 5.4037e-04 - val_accuracy: 0.9811 - val_loss: 0.0935 - learning_rate: 1.0000e-05\n",
      "Epoch 30/30\n",
      "\n",
      "Epoch 30: val_accuracy did not improve from 0.98142\n",
      "375/375 - 2s - 5ms/step - accuracy: 1.0000 - loss: 5.0407e-04 - val_accuracy: 0.9810 - val_loss: 0.0942 - learning_rate: 1.0000e-05\n"
     ]
    }
   ],
   "source": [
    "history = model.fit(x_train,y_train, validation_split=0.2, epochs = 30,batch_size = 128, verbose = 2, callbacks = callbacks)"
   ]
  },
  {
   "cell_type": "code",
   "execution_count": 31,
   "id": "12db3a1b-9ee7-4880-b1f9-540a87843276",
   "metadata": {},
   "outputs": [
    {
     "name": "stdout",
     "output_type": "stream",
     "text": [
      "\u001b[1m313/313\u001b[0m \u001b[32m━━━━━━━━━━━━━━━━━━━━\u001b[0m\u001b[37m\u001b[0m \u001b[1m1s\u001b[0m 2ms/step\n"
     ]
    }
   ],
   "source": [
    "y_pred = model.predict(x_test)"
   ]
  },
  {
   "cell_type": "code",
   "execution_count": 32,
   "id": "b500dff3-718a-45eb-9b79-81fb80f9bd59",
   "metadata": {},
   "outputs": [],
   "source": [
    "y_pred_final = []\n",
    "for i in y_pred:\n",
    "    y_pred_final.append(np.argmax(i))"
   ]
  },
  {
   "cell_type": "code",
   "execution_count": 33,
   "id": "ff28fe44-8a7e-4837-ac2c-5748771e6c8b",
   "metadata": {},
   "outputs": [
    {
     "data": {
      "text/plain": [
       "7"
      ]
     },
     "execution_count": 33,
     "metadata": {},
     "output_type": "execute_result"
    }
   ],
   "source": [
    "y_pred_final[0]"
   ]
  },
  {
   "cell_type": "code",
   "execution_count": 34,
   "id": "b55da149-0dc8-4cac-a4b5-25742ff49ddc",
   "metadata": {},
   "outputs": [
    {
     "name": "stdout",
     "output_type": "stream",
     "text": [
      "              precision    recall  f1-score   support\n",
      "\n",
      "           0       0.99      0.99      0.99       980\n",
      "           1       0.99      0.99      0.99      1135\n",
      "           2       0.98      0.99      0.98      1032\n",
      "           3       0.98      0.98      0.98      1010\n",
      "           4       0.99      0.98      0.98       982\n",
      "           5       0.99      0.97      0.98       892\n",
      "           6       0.99      0.98      0.99       958\n",
      "           7       0.98      0.98      0.98      1028\n",
      "           8       0.98      0.98      0.98       974\n",
      "           9       0.98      0.98      0.98      1009\n",
      "\n",
      "    accuracy                           0.98     10000\n",
      "   macro avg       0.98      0.98      0.98     10000\n",
      "weighted avg       0.98      0.98      0.98     10000\n",
      "\n"
     ]
    }
   ],
   "source": [
    "print(classification_report(y_test, y_pred_final))"
   ]
  },
  {
   "cell_type": "code",
   "execution_count": 35,
   "id": "ab46b7da-8bc6-4b98-8a21-ce51bd86b00c",
   "metadata": {},
   "outputs": [
    {
     "data": {
      "image/png": "[encoded data removed]",
      "text/plain": [
       "<Figure size 1000x700 with 2 Axes>"
      ]
     },
     "metadata": {},
     "output_type": "display_data"
    }
   ],
   "source": [
    "cm = confusion_matrix(y_test,y_pred_final)\n",
    "plt.figure(figsize = (10,7))\n",
    "sns.heatmap(cm,annot=True,fmt = 'd')\n",
    "plt.xlabel('Predicted')\n",
    "plt.ylabel('Truth')\n",
    "plt.show()"
   ]
  },
  {
   "cell_type": "code",
   "execution_count": 36,
   "id": "f655d94d-7f37-4e3e-b7b5-cb74d5e9e78d",
   "metadata": {},
   "outputs": [
    {
     "name": "stdout",
     "output_type": "stream",
     "text": [
      "[8, 151, 247, 259, 321, 340, 445, 495, 582, 619, 659, 674, 684, 707, 720, 900, 965, 1003, 1014, 1039, 1044, 1112, 1156, 1178, 1226, 1232, 1242, 1247, 1289, 1299, 1319, 1328, 1393, 1395, 1522, 1530, 1549, 1681, 1717, 1754, 1790, 1878, 1901, 2004, 2016, 2053, 2098, 2109, 2118, 2135, 2148, 2185, 2224, 2291, 2293, 2333, 2369, 2387, 2414, 2488, 2597, 2607, 2648, 2654, 2810, 2877, 2896, 2921, 2927, 2939, 2979, 3073, 3117, 3222, 3289, 3405, 3422, 3451, 3490, 3503, 3520, 3534, 3558, 3776, 3780, 3808, 3838, 3853, 3869, 3893, 3902, 3906, 3941, 3943, 3985, 4027, 4065, 4078, 4176, 4199, 4248, 4289, 4294, 4405, 4425, 4433, 4497, 4536, 4731, 4740, 4807, 4823, 4880, 4966, 5046, 5140, 5331, 5600, 5642, 5676, 5936, 5937, 5955, 5972, 5973, 5982, 6011, 6023, 6046, 6059, 6532, 6555, 6571, 6576, 6597, 6641, 6651, 6755, 6783, 6847, 7216, 8094, 8277, 8325, 8410, 8527, 9009, 9015, 9024, 9422, 9587, 9634, 9664, 9679, 9729, 9745, 9768, 9770, 9779, 9792, 9808, 9839, 9904, 9944, 9982]\n",
      "165\n"
     ]
    }
   ],
   "source": [
    "index = 0\n",
    "misclassified_images = []\n",
    "for label, predict in zip(y_test, y_pred_final):\n",
    "    if label != predict: \n",
    "        misclassified_images.append(index)\n",
    "    index +=1\n",
    "print(misclassified_images)\n",
    "print(len(misclassified_images))"
   ]
  },
  {
   "cell_type": "code",
   "execution_count": 40,
   "id": "284d2f60-62aa-47e4-a5f2-4302552f3264",
   "metadata": {},
   "outputs": [
    {
     "name": "stdout",
     "output_type": "stream",
     "text": [
      "\u001b[1m1/1\u001b[0m \u001b[32m━━━━━━━━━━━━━━━━━━━━\u001b[0m\u001b[37m\u001b[0m \u001b[1m0s\u001b[0m 32ms/step\n",
      "Was predicted  2\n",
      "Was labeled  7\n",
      "Predicted Probabilities:  [[2.6765538e-11 7.9622914e-08 9.9971050e-01 8.6896114e-05 4.8723131e-12\n",
      "  5.0545357e-10 4.3000052e-12 2.0250652e-04 1.6921117e-10 6.4922206e-10]]\n"
     ]
    },
    {
     "data": {
      "image/png": "[encoded data removed]",
      "text/plain": [
       "<Figure size 640x480 with 1 Axes>"
      ]
     },
     "metadata": {},
     "output_type": "display_data"
    }
   ],
   "source": [
    "image_index = 9024\n",
    "plt.imshow(x_test[image_index].reshape(28, 28),cmap='Greys')\n",
    "pred = model.predict(x_test[image_index].reshape(-1, 784))\n",
    "print(\"Was predicted \",pred.argmax())\n",
    "print(\"Was labeled \",y_test[image_index])\n",
    "print(\"Predicted Probabilities: \",pred)"
   ]
  },
  {
   "cell_type": "code",
   "execution_count": 41,
   "id": "a875b543-2302-43ce-bad6-512d0b7322c5",
   "metadata": {},
   "outputs": [
    {
     "data": {
      "image/png": "[encoded data removed]",
      "text/plain": [
       "<Figure size 640x480 with 1 Axes>"
      ]
     },
     "metadata": {},
     "output_type": "display_data"
    }
   ],
   "source": [
    "loss, accuracy  = model.evaluate(x_test, y_test_cat, verbose=False)\n",
    "    \n",
    "plt.plot(history.history['accuracy'])\n",
    "plt.plot(history.history['val_accuracy'])\n",
    "plt.title('model accuracy')\n",
    "plt.ylabel('accuracy')\n",
    "plt.xlabel('epoch')\n",
    "plt.legend(['training', 'validation'], loc='best')\n",
    "plt.show()"
   ]
  },
  {
   "cell_type": "code",
   "execution_count": 71,
   "id": "74f21d19-30c5-42ba-a29d-3dcb2275464d",
   "metadata": {},
   "outputs": [],
   "source": [
    "from tensorflow.keras import losses, optimizers\n",
    "from keras import Sequential\n",
    "from tensorflow.keras.layers import Dense, BatchNormalization, Dropout"
   ]
  },
  {
   "cell_type": "code",
   "execution_count": 72,
   "id": "2dfd69ff-e8c2-4ad3-a59f-799703b84a57",
   "metadata": {},
   "outputs": [],
   "source": [
    "image_size = 28*28\n",
    "model_1 = Sequential()\n",
    "\n",
    "model_1.add(Dense(256, activation='relu', kernel_initializer = 'he_uniform', input_shape = (image_size,)))\n",
    "model_1.add(Dense(64 , activation='relu', kernel_initializer = 'he_uniform'))\n",
    "model_1.add(Dense(64 , activation='relu', kernel_initializer = 'he_uniform'))\n",
    "model_1.add(Dense(32 , activation='relu', kernel_initializer = 'he_uniform'))\n",
    "model_1.add(Dropout(0.5))\n",
    "model_1.add(BatchNormalization())\n",
    "model_1.add(Dense(num_classes, activation='softmax'))"
   ]
  },
  {
   "cell_type": "code",
   "execution_count": 73,
   "id": "3b90d021-5fc0-4dea-9406-a79e7d76c9fc",
   "metadata": {},
   "outputs": [],
   "source": [
    "adam = optimizers.Adam(learning_rate=1e-3)\n",
    "model_1.compile(loss=losses.categorical_crossentropy, optimizer=adam, metrics=['accuracy'])"
   ]
  },
  {
   "cell_type": "code",
   "execution_count": 74,
   "id": "c81c7894-6a98-4d87-9873-a85a9471f56d",
   "metadata": {},
   "outputs": [
    {
     "data": {
      "text/html": [
       "<pre style=\"white-space:pre;overflow-x:auto;line-height:normal;font-family:Menlo,'DejaVu Sans Mono',consolas,'Courier New',monospace\"><span style=\"font-weight: bold\">Model: \"sequential_4\"</span>\n",
       "</pre>\n"
      ],
      "text/plain": [
       "\u001b[1mModel: \"sequential_4\"\u001b[0m\n"
      ]
     },
     "metadata": {},
     "output_type": "display_data"
    },
    {
     "data": {
      "text/html": [
       "<pre style=\"white-space:pre;overflow-x:auto;line-height:normal;font-family:Menlo,'DejaVu Sans Mono',consolas,'Courier New',monospace\">┏━━━━━━━━━━━━━━━━━━━━━━━━━━━━━━━━━━━━━━┳━━━━━━━━━━━━━━━━━━━━━━━━━━━━━┳━━━━━━━━━━━━━━━━━┓\n",
       "┃<span style=\"font-weight: bold\"> Layer (type)                         </span>┃<span style=\"font-weight: bold\"> Output Shape                </span>┃<span style=\"font-weight: bold\">         Param # </span>┃\n",
       "┡━━━━━━━━━━━━━━━━━━━━━━━━━━━━━━━━━━━━━━╇━━━━━━━━━━━━━━━━━━━━━━━━━━━━━╇━━━━━━━━━━━━━━━━━┩\n",
       "│ dense_19 (<span style=\"color: #0087ff; text-decoration-color: #0087ff\">Dense</span>)                     │ (<span style=\"color: #00d7ff; text-decoration-color: #00d7ff\">None</span>, <span style=\"color: #00af00; text-decoration-color: #00af00\">256</span>)                 │         <span style=\"color: #00af00; text-decoration-color: #00af00\">200,960</span> │\n",
       "├──────────────────────────────────────┼─────────────────────────────┼─────────────────┤\n",
       "│ dense_20 (<span style=\"color: #0087ff; text-decoration-color: #0087ff\">Dense</span>)                     │ (<span style=\"color: #00d7ff; text-decoration-color: #00d7ff\">None</span>, <span style=\"color: #00af00; text-decoration-color: #00af00\">64</span>)                  │          <span style=\"color: #00af00; text-decoration-color: #00af00\">16,448</span> │\n",
       "├──────────────────────────────────────┼─────────────────────────────┼─────────────────┤\n",
       "│ dense_21 (<span style=\"color: #0087ff; text-decoration-color: #0087ff\">Dense</span>)                     │ (<span style=\"color: #00d7ff; text-decoration-color: #00d7ff\">None</span>, <span style=\"color: #00af00; text-decoration-color: #00af00\">64</span>)                  │           <span style=\"color: #00af00; text-decoration-color: #00af00\">4,160</span> │\n",
       "├──────────────────────────────────────┼─────────────────────────────┼─────────────────┤\n",
       "│ dense_22 (<span style=\"color: #0087ff; text-decoration-color: #0087ff\">Dense</span>)                     │ (<span style=\"color: #00d7ff; text-decoration-color: #00d7ff\">None</span>, <span style=\"color: #00af00; text-decoration-color: #00af00\">32</span>)                  │           <span style=\"color: #00af00; text-decoration-color: #00af00\">2,080</span> │\n",
       "├──────────────────────────────────────┼─────────────────────────────┼─────────────────┤\n",
       "│ dropout_4 (<span style=\"color: #0087ff; text-decoration-color: #0087ff\">Dropout</span>)                  │ (<span style=\"color: #00d7ff; text-decoration-color: #00d7ff\">None</span>, <span style=\"color: #00af00; text-decoration-color: #00af00\">32</span>)                  │               <span style=\"color: #00af00; text-decoration-color: #00af00\">0</span> │\n",
       "├──────────────────────────────────────┼─────────────────────────────┼─────────────────┤\n",
       "│ batch_normalization_4                │ (<span style=\"color: #00d7ff; text-decoration-color: #00d7ff\">None</span>, <span style=\"color: #00af00; text-decoration-color: #00af00\">32</span>)                  │             <span style=\"color: #00af00; text-decoration-color: #00af00\">128</span> │\n",
       "│ (<span style=\"color: #0087ff; text-decoration-color: #0087ff\">BatchNormalization</span>)                 │                             │                 │\n",
       "├──────────────────────────────────────┼─────────────────────────────┼─────────────────┤\n",
       "│ dense_23 (<span style=\"color: #0087ff; text-decoration-color: #0087ff\">Dense</span>)                     │ (<span style=\"color: #00d7ff; text-decoration-color: #00d7ff\">None</span>, <span style=\"color: #00af00; text-decoration-color: #00af00\">10</span>)                  │             <span style=\"color: #00af00; text-decoration-color: #00af00\">330</span> │\n",
       "└──────────────────────────────────────┴─────────────────────────────┴─────────────────┘\n",
       "</pre>\n"
      ],
      "text/plain": [
       "┏━━━━━━━━━━━━━━━━━━━━━━━━━━━━━━━━━━━━━━┳━━━━━━━━━━━━━━━━━━━━━━━━━━━━━┳━━━━━━━━━━━━━━━━━┓\n",
       "┃\u001b[1m \u001b[0m\u001b[1mLayer (type)                        \u001b[0m\u001b[1m \u001b[0m┃\u001b[1m \u001b[0m\u001b[1mOutput Shape               \u001b[0m\u001b[1m \u001b[0m┃\u001b[1m \u001b[0m\u001b[1m        Param #\u001b[0m\u001b[1m \u001b[0m┃\n",
       "┡━━━━━━━━━━━━━━━━━━━━━━━━━━━━━━━━━━━━━━╇━━━━━━━━━━━━━━━━━━━━━━━━━━━━━╇━━━━━━━━━━━━━━━━━┩\n",
       "│ dense_19 (\u001b[38;5;33mDense\u001b[0m)                     │ (\u001b[38;5;45mNone\u001b[0m, \u001b[38;5;34m256\u001b[0m)                 │         \u001b[38;5;34m200,960\u001b[0m │\n",
       "├──────────────────────────────────────┼─────────────────────────────┼─────────────────┤\n",
       "│ dense_20 (\u001b[38;5;33mDense\u001b[0m)                     │ (\u001b[38;5;45mNone\u001b[0m, \u001b[38;5;34m64\u001b[0m)                  │          \u001b[38;5;34m16,448\u001b[0m │\n",
       "├──────────────────────────────────────┼─────────────────────────────┼─────────────────┤\n",
       "│ dense_21 (\u001b[38;5;33mDense\u001b[0m)                     │ (\u001b[38;5;45mNone\u001b[0m, \u001b[38;5;34m64\u001b[0m)                  │           \u001b[38;5;34m4,160\u001b[0m │\n",
       "├──────────────────────────────────────┼─────────────────────────────┼─────────────────┤\n",
       "│ dense_22 (\u001b[38;5;33mDense\u001b[0m)                     │ (\u001b[38;5;45mNone\u001b[0m, \u001b[38;5;34m32\u001b[0m)                  │           \u001b[38;5;34m2,080\u001b[0m │\n",
       "├──────────────────────────────────────┼─────────────────────────────┼─────────────────┤\n",
       "│ dropout_4 (\u001b[38;5;33mDropout\u001b[0m)                  │ (\u001b[38;5;45mNone\u001b[0m, \u001b[38;5;34m32\u001b[0m)                  │               \u001b[38;5;34m0\u001b[0m │\n",
       "├──────────────────────────────────────┼─────────────────────────────┼─────────────────┤\n",
       "│ batch_normalization_4                │ (\u001b[38;5;45mNone\u001b[0m, \u001b[38;5;34m32\u001b[0m)                  │             \u001b[38;5;34m128\u001b[0m │\n",
       "│ (\u001b[38;5;33mBatchNormalization\u001b[0m)                 │                             │                 │\n",
       "├──────────────────────────────────────┼─────────────────────────────┼─────────────────┤\n",
       "│ dense_23 (\u001b[38;5;33mDense\u001b[0m)                     │ (\u001b[38;5;45mNone\u001b[0m, \u001b[38;5;34m10\u001b[0m)                  │             \u001b[38;5;34m330\u001b[0m │\n",
       "└──────────────────────────────────────┴─────────────────────────────┴─────────────────┘\n"
      ]
     },
     "metadata": {},
     "output_type": "display_data"
    },
    {
     "data": {
      "text/html": [
       "<pre style=\"white-space:pre;overflow-x:auto;line-height:normal;font-family:Menlo,'DejaVu Sans Mono',consolas,'Courier New',monospace\"><span style=\"font-weight: bold\"> Total params: </span><span style=\"color: #00af00; text-decoration-color: #00af00\">224,106</span> (875.41 KB)\n",
       "</pre>\n"
      ],
      "text/plain": [
       "\u001b[1m Total params: \u001b[0m\u001b[38;5;34m224,106\u001b[0m (875.41 KB)\n"
      ]
     },
     "metadata": {},
     "output_type": "display_data"
    },
    {
     "data": {
      "text/html": [
       "<pre style=\"white-space:pre;overflow-x:auto;line-height:normal;font-family:Menlo,'DejaVu Sans Mono',consolas,'Courier New',monospace\"><span style=\"font-weight: bold\"> Trainable params: </span><span style=\"color: #00af00; text-decoration-color: #00af00\">224,042</span> (875.16 KB)\n",
       "</pre>\n"
      ],
      "text/plain": [
       "\u001b[1m Trainable params: \u001b[0m\u001b[38;5;34m224,042\u001b[0m (875.16 KB)\n"
      ]
     },
     "metadata": {},
     "output_type": "display_data"
    },
    {
     "data": {
      "text/html": [
       "<pre style=\"white-space:pre;overflow-x:auto;line-height:normal;font-family:Menlo,'DejaVu Sans Mono',consolas,'Courier New',monospace\"><span style=\"font-weight: bold\"> Non-trainable params: </span><span style=\"color: #00af00; text-decoration-color: #00af00\">64</span> (256.00 B)\n",
       "</pre>\n"
      ],
      "text/plain": [
       "\u001b[1m Non-trainable params: \u001b[0m\u001b[38;5;34m64\u001b[0m (256.00 B)\n"
      ]
     },
     "metadata": {},
     "output_type": "display_data"
    }
   ],
   "source": [
    "model_1.summary()"
   ]
  },
  {
   "cell_type": "code",
   "execution_count": 75,
   "id": "1cbecb75-b84d-4492-9ed3-4cfe75bafcb1",
   "metadata": {},
   "outputs": [],
   "source": [
    "#Checkpoint\n",
    "checkpoint = ModelCheckpoint(\"model_weights_1.weights.h5\", monitor = \"val_accuracy\",\n",
    "                            save_weights_only = True,save_best_only = True, mode = 'max', verbose = 1)\n",
    "reduce_lr = ReduceLROnPlateau(monitor='val_loss',factor=0.1, patience=2,min_lr = 0.00001,model='auto')\n",
    "callbacks = [checkpoint,reduce_lr]"
   ]
  },
  {
   "cell_type": "code",
   "execution_count": 76,
   "id": "488e5626-4d71-4344-8048-3676948c20cf",
   "metadata": {},
   "outputs": [
    {
     "name": "stdout",
     "output_type": "stream",
     "text": [
      "Epoch 1/35\n",
      "\n",
      "Epoch 1: val_accuracy improved from -inf to 0.94808, saving model to model_weights_1.weights.h5\n",
      "375/375 - 10s - 26ms/step - accuracy: 0.7443 - loss: 0.9082 - val_accuracy: 0.9481 - val_loss: 0.2196 - learning_rate: 0.0010\n",
      "Epoch 2/35\n",
      "\n",
      "Epoch 2: val_accuracy improved from 0.94808 to 0.96025, saving model to model_weights_1.weights.h5\n",
      "375/375 - 3s - 8ms/step - accuracy: 0.8963 - loss: 0.3864 - val_accuracy: 0.9603 - val_loss: 0.1394 - learning_rate: 0.0010\n",
      "Epoch 3/35\n",
      "\n",
      "Epoch 3: val_accuracy improved from 0.96025 to 0.96817, saving model to model_weights_1.weights.h5\n",
      "375/375 - 3s - 8ms/step - accuracy: 0.9246 - loss: 0.2734 - val_accuracy: 0.9682 - val_loss: 0.1130 - learning_rate: 0.0010\n",
      "Epoch 4/35\n",
      "\n",
      "Epoch 4: val_accuracy improved from 0.96817 to 0.96983, saving model to model_weights_1.weights.h5\n",
      "375/375 - 3s - 8ms/step - accuracy: 0.9402 - loss: 0.2141 - val_accuracy: 0.9698 - val_loss: 0.1092 - learning_rate: 0.0010\n",
      "Epoch 5/35\n",
      "\n",
      "Epoch 5: val_accuracy improved from 0.96983 to 0.97142, saving model to model_weights_1.weights.h5\n",
      "375/375 - 3s - 8ms/step - accuracy: 0.9490 - loss: 0.1791 - val_accuracy: 0.9714 - val_loss: 0.1028 - learning_rate: 0.0010\n",
      "Epoch 6/35\n",
      "\n",
      "Epoch 6: val_accuracy improved from 0.97142 to 0.97317, saving model to model_weights_1.weights.h5\n",
      "375/375 - 3s - 8ms/step - accuracy: 0.9544 - loss: 0.1558 - val_accuracy: 0.9732 - val_loss: 0.1044 - learning_rate: 0.0010\n",
      "Epoch 7/35\n",
      "\n",
      "Epoch 7: val_accuracy did not improve from 0.97317\n",
      "375/375 - 3s - 7ms/step - accuracy: 0.9576 - loss: 0.1424 - val_accuracy: 0.9714 - val_loss: 0.1138 - learning_rate: 0.0010\n",
      "Epoch 8/35\n",
      "\n",
      "Epoch 8: val_accuracy improved from 0.97317 to 0.97883, saving model to model_weights_1.weights.h5\n",
      "375/375 - 3s - 8ms/step - accuracy: 0.9666 - loss: 0.1103 - val_accuracy: 0.9788 - val_loss: 0.0873 - learning_rate: 1.0000e-04\n",
      "Epoch 9/35\n",
      "\n",
      "Epoch 9: val_accuracy did not improve from 0.97883\n",
      "375/375 - 3s - 7ms/step - accuracy: 0.9695 - loss: 0.0993 - val_accuracy: 0.9786 - val_loss: 0.0875 - learning_rate: 1.0000e-04\n",
      "Epoch 10/35\n",
      "\n",
      "Epoch 10: val_accuracy improved from 0.97883 to 0.97917, saving model to model_weights_1.weights.h5\n",
      "375/375 - 3s - 8ms/step - accuracy: 0.9694 - loss: 0.0982 - val_accuracy: 0.9792 - val_loss: 0.0868 - learning_rate: 1.0000e-04\n",
      "Epoch 11/35\n",
      "\n",
      "Epoch 11: val_accuracy did not improve from 0.97917\n",
      "375/375 - 3s - 7ms/step - accuracy: 0.9708 - loss: 0.0921 - val_accuracy: 0.9790 - val_loss: 0.0859 - learning_rate: 1.0000e-04\n",
      "Epoch 12/35\n",
      "\n",
      "Epoch 12: val_accuracy improved from 0.97917 to 0.97958, saving model to model_weights_1.weights.h5\n",
      "375/375 - 3s - 8ms/step - accuracy: 0.9711 - loss: 0.0899 - val_accuracy: 0.9796 - val_loss: 0.0883 - learning_rate: 1.0000e-04\n",
      "Epoch 13/35\n",
      "\n",
      "Epoch 13: val_accuracy did not improve from 0.97958\n",
      "375/375 - 3s - 7ms/step - accuracy: 0.9723 - loss: 0.0879 - val_accuracy: 0.9795 - val_loss: 0.0911 - learning_rate: 1.0000e-04\n",
      "Epoch 14/35\n",
      "\n",
      "Epoch 14: val_accuracy did not improve from 0.97958\n",
      "375/375 - 3s - 7ms/step - accuracy: 0.9718 - loss: 0.0883 - val_accuracy: 0.9793 - val_loss: 0.0906 - learning_rate: 1.0000e-05\n",
      "Epoch 15/35\n",
      "\n",
      "Epoch 15: val_accuracy improved from 0.97958 to 0.97967, saving model to model_weights_1.weights.h5\n",
      "375/375 - 3s - 8ms/step - accuracy: 0.9740 - loss: 0.0837 - val_accuracy: 0.9797 - val_loss: 0.0899 - learning_rate: 1.0000e-05\n",
      "Epoch 16/35\n",
      "\n",
      "Epoch 16: val_accuracy improved from 0.97967 to 0.97983, saving model to model_weights_1.weights.h5\n",
      "375/375 - 3s - 8ms/step - accuracy: 0.9726 - loss: 0.0871 - val_accuracy: 0.9798 - val_loss: 0.0900 - learning_rate: 1.0000e-05\n",
      "Epoch 17/35\n",
      "\n",
      "Epoch 17: val_accuracy did not improve from 0.97983\n",
      "375/375 - 3s - 7ms/step - accuracy: 0.9740 - loss: 0.0837 - val_accuracy: 0.9795 - val_loss: 0.0893 - learning_rate: 1.0000e-05\n",
      "Epoch 18/35\n",
      "\n",
      "Epoch 18: val_accuracy did not improve from 0.97983\n",
      "375/375 - 3s - 7ms/step - accuracy: 0.9733 - loss: 0.0834 - val_accuracy: 0.9797 - val_loss: 0.0891 - learning_rate: 1.0000e-05\n",
      "Epoch 19/35\n",
      "\n",
      "Epoch 19: val_accuracy did not improve from 0.97983\n",
      "375/375 - 3s - 7ms/step - accuracy: 0.9735 - loss: 0.0853 - val_accuracy: 0.9797 - val_loss: 0.0893 - learning_rate: 1.0000e-05\n",
      "Epoch 20/35\n",
      "\n",
      "Epoch 20: val_accuracy did not improve from 0.97983\n",
      "375/375 - 3s - 7ms/step - accuracy: 0.9747 - loss: 0.0816 - val_accuracy: 0.9796 - val_loss: 0.0893 - learning_rate: 1.0000e-05\n",
      "Epoch 21/35\n",
      "\n",
      "Epoch 21: val_accuracy did not improve from 0.97983\n",
      "375/375 - 3s - 7ms/step - accuracy: 0.9730 - loss: 0.0856 - val_accuracy: 0.9794 - val_loss: 0.0897 - learning_rate: 1.0000e-05\n",
      "Epoch 22/35\n",
      "\n",
      "Epoch 22: val_accuracy did not improve from 0.97983\n",
      "375/375 - 3s - 7ms/step - accuracy: 0.9740 - loss: 0.0823 - val_accuracy: 0.9797 - val_loss: 0.0893 - learning_rate: 1.0000e-05\n",
      "Epoch 23/35\n",
      "\n",
      "Epoch 23: val_accuracy did not improve from 0.97983\n",
      "375/375 - 3s - 7ms/step - accuracy: 0.9734 - loss: 0.0840 - val_accuracy: 0.9797 - val_loss: 0.0896 - learning_rate: 1.0000e-05\n",
      "Epoch 24/35\n",
      "\n",
      "Epoch 24: val_accuracy did not improve from 0.97983\n",
      "375/375 - 3s - 7ms/step - accuracy: 0.9750 - loss: 0.0823 - val_accuracy: 0.9797 - val_loss: 0.0892 - learning_rate: 1.0000e-05\n",
      "Epoch 25/35\n",
      "\n",
      "Epoch 25: val_accuracy did not improve from 0.97983\n",
      "375/375 - 3s - 7ms/step - accuracy: 0.9733 - loss: 0.0831 - val_accuracy: 0.9795 - val_loss: 0.0898 - learning_rate: 1.0000e-05\n",
      "Epoch 26/35\n",
      "\n",
      "Epoch 26: val_accuracy did not improve from 0.97983\n",
      "375/375 - 3s - 7ms/step - accuracy: 0.9744 - loss: 0.0834 - val_accuracy: 0.9793 - val_loss: 0.0911 - learning_rate: 1.0000e-05\n",
      "Epoch 27/35\n",
      "\n",
      "Epoch 27: val_accuracy did not improve from 0.97983\n",
      "375/375 - 3s - 7ms/step - accuracy: 0.9741 - loss: 0.0825 - val_accuracy: 0.9797 - val_loss: 0.0906 - learning_rate: 1.0000e-05\n",
      "Epoch 28/35\n",
      "\n",
      "Epoch 28: val_accuracy did not improve from 0.97983\n",
      "375/375 - 3s - 7ms/step - accuracy: 0.9734 - loss: 0.0840 - val_accuracy: 0.9795 - val_loss: 0.0908 - learning_rate: 1.0000e-05\n",
      "Epoch 29/35\n",
      "\n",
      "Epoch 29: val_accuracy did not improve from 0.97983\n",
      "375/375 - 3s - 7ms/step - accuracy: 0.9741 - loss: 0.0820 - val_accuracy: 0.9796 - val_loss: 0.0908 - learning_rate: 1.0000e-05\n",
      "Epoch 30/35\n",
      "\n",
      "Epoch 30: val_accuracy did not improve from 0.97983\n",
      "375/375 - 3s - 7ms/step - accuracy: 0.9724 - loss: 0.0845 - val_accuracy: 0.9796 - val_loss: 0.0902 - learning_rate: 1.0000e-05\n",
      "Epoch 31/35\n",
      "\n",
      "Epoch 31: val_accuracy did not improve from 0.97983\n",
      "375/375 - 3s - 7ms/step - accuracy: 0.9729 - loss: 0.0836 - val_accuracy: 0.9797 - val_loss: 0.0908 - learning_rate: 1.0000e-05\n",
      "Epoch 32/35\n",
      "\n",
      "Epoch 32: val_accuracy did not improve from 0.97983\n",
      "375/375 - 3s - 7ms/step - accuracy: 0.9744 - loss: 0.0818 - val_accuracy: 0.9797 - val_loss: 0.0902 - learning_rate: 1.0000e-05\n",
      "Epoch 33/35\n",
      "\n",
      "Epoch 33: val_accuracy did not improve from 0.97983\n",
      "375/375 - 3s - 7ms/step - accuracy: 0.9746 - loss: 0.0794 - val_accuracy: 0.9795 - val_loss: 0.0910 - learning_rate: 1.0000e-05\n",
      "Epoch 34/35\n",
      "\n",
      "Epoch 34: val_accuracy did not improve from 0.97983\n",
      "375/375 - 3s - 7ms/step - accuracy: 0.9746 - loss: 0.0790 - val_accuracy: 0.9793 - val_loss: 0.0910 - learning_rate: 1.0000e-05\n",
      "Epoch 35/35\n",
      "\n",
      "Epoch 35: val_accuracy did not improve from 0.97983\n",
      "375/375 - 3s - 7ms/step - accuracy: 0.9750 - loss: 0.0795 - val_accuracy: 0.9797 - val_loss: 0.0915 - learning_rate: 1.0000e-05\n"
     ]
    }
   ],
   "source": [
    "history = model_1.fit(x_train,y_train, validation_split=0.2, epochs = 35,batch_size = 128, verbose = 2, callbacks = callbacks)"
   ]
  },
  {
   "cell_type": "code",
   "execution_count": 77,
   "id": "fcd0dad0-e850-4f39-9f71-2676f0ca1b59",
   "metadata": {},
   "outputs": [
    {
     "name": "stdout",
     "output_type": "stream",
     "text": [
      "\u001b[1m313/313\u001b[0m \u001b[32m━━━━━━━━━━━━━━━━━━━━\u001b[0m\u001b[37m\u001b[0m \u001b[1m2s\u001b[0m 4ms/step\n"
     ]
    }
   ],
   "source": [
    "y_pred = model_1.predict(x_test)"
   ]
  },
  {
   "cell_type": "code",
   "execution_count": 78,
   "id": "e9265907-6f7d-4a2d-8312-228e182bb67e",
   "metadata": {},
   "outputs": [],
   "source": [
    "y_pred_final = []\n",
    "for i in y_pred:\n",
    "    y_pred_final.append(np.argmax(i))"
   ]
  },
  {
   "cell_type": "code",
   "execution_count": 79,
   "id": "1065599c-8204-4adc-9b2b-423d3fdd5c91",
   "metadata": {},
   "outputs": [
    {
     "data": {
      "text/plain": [
       "7"
      ]
     },
     "execution_count": 79,
     "metadata": {},
     "output_type": "execute_result"
    }
   ],
   "source": [
    "y_pred_final[0]\n"
   ]
  },
  {
   "cell_type": "code",
   "execution_count": 80,
   "id": "bef8d915-eca4-456b-aee1-632db00ef36a",
   "metadata": {},
   "outputs": [
    {
     "name": "stdout",
     "output_type": "stream",
     "text": [
      "              precision    recall  f1-score   support\n",
      "\n",
      "           0       0.98      0.99      0.99       980\n",
      "           1       0.99      0.99      0.99      1135\n",
      "           2       0.99      0.98      0.98      1032\n",
      "           3       0.97      0.99      0.98      1010\n",
      "           4       0.99      0.98      0.99       982\n",
      "           5       0.99      0.98      0.98       892\n",
      "           6       0.98      0.99      0.99       958\n",
      "           7       0.99      0.98      0.98      1028\n",
      "           8       0.97      0.98      0.97       974\n",
      "           9       0.98      0.97      0.98      1009\n",
      "\n",
      "    accuracy                           0.98     10000\n",
      "   macro avg       0.98      0.98      0.98     10000\n",
      "weighted avg       0.98      0.98      0.98     10000\n",
      "\n"
     ]
    }
   ],
   "source": [
    "from sklearn.metrics import classification_report,confusion_matrix\n",
    "\n",
    "print(classification_report(y_test, y_pred_final))"
   ]
  },
  {
   "cell_type": "code",
   "execution_count": 81,
   "id": "a49c08b6-8b83-4b63-8dcb-6b38658a0a4a",
   "metadata": {},
   "outputs": [
    {
     "data": {
      "image/png": "[encoded data removed]",
      "text/plain": [
       "<Figure size 1000x700 with 2 Axes>"
      ]
     },
     "metadata": {},
     "output_type": "display_data"
    }
   ],
   "source": [
    "import seaborn as sns\n",
    "cm = confusion_matrix(y_test,y_pred_final)\n",
    "plt.figure(figsize = (10,7))\n",
    "sns.heatmap(cm,annot=True,fmt = 'd')\n",
    "plt.xlabel('Predicted')\n",
    "plt.ylabel('Truth')\n",
    "plt.show()"
   ]
  },
  {
   "cell_type": "code",
   "execution_count": 82,
   "id": "72fc9ed4-5723-4fb6-984b-bea02871c469",
   "metadata": {},
   "outputs": [
    {
     "name": "stdout",
     "output_type": "stream",
     "text": [
      "[149, 151, 247, 321, 340, 412, 445, 551, 582, 613, 619, 684, 720, 900, 947, 951, 956, 965, 1003, 1014, 1112, 1156, 1194, 1226, 1232, 1247, 1260, 1299, 1319, 1328, 1378, 1393, 1395, 1494, 1522, 1530, 1549, 1553, 1609, 1611, 1621, 1681, 1709, 1732, 1790, 1868, 1871, 1901, 1941, 1987, 2035, 2053, 2070, 2098, 2109, 2130, 2135, 2224, 2291, 2369, 2387, 2395, 2406, 2488, 2648, 2654, 2877, 2896, 2939, 2953, 3117, 3289, 3422, 3451, 3475, 3503, 3520, 3533, 3534, 3558, 3559, 3604, 3767, 3776, 3780, 3808, 3853, 3876, 3893, 3906, 3941, 3976, 3985, 4065, 4075, 4078, 4102, 4163, 4176, 4199, 4224, 4248, 4289, 4294, 4425, 4497, 4536, 4571, 4639, 4731, 4740, 4807, 4823, 4860, 4880, 4966, 5331, 5409, 5457, 5634, 5642, 5654, 5676, 5734, 5749, 5887, 5936, 5937, 5955, 5972, 5973, 6011, 6023, 6046, 6166, 6168, 6173, 6555, 6559, 6560, 6571, 6574, 6597, 6651, 6744, 6755, 6783, 6847, 7216, 7434, 7921, 8062, 8094, 8160, 8325, 8408, 8527, 9009, 9015, 9019, 9024, 9280, 9540, 9587, 9634, 9664, 9692, 9700, 9729, 9745, 9768, 9770, 9779, 9839, 9858, 9944]\n",
      "176\n"
     ]
    }
   ],
   "source": [
    "index = 0\n",
    "misclassified_images = []\n",
    "for label, predict in zip(y_test, y_pred_final):\n",
    "    if label != predict: \n",
    "        misclassified_images.append(index)\n",
    "    index +=1\n",
    "print(misclassified_images)\n",
    "print(len(misclassified_images))"
   ]
  },
  {
   "cell_type": "code",
   "execution_count": 83,
   "id": "dd041822-2cff-4ac0-81c6-b2ce1b556632",
   "metadata": {},
   "outputs": [
    {
     "name": "stdout",
     "output_type": "stream",
     "text": [
      "\u001b[1m1/1\u001b[0m \u001b[32m━━━━━━━━━━━━━━━━━━━━\u001b[0m\u001b[37m\u001b[0m \u001b[1m0s\u001b[0m 31ms/step\n",
      "Was predicted  0\n",
      "Was labeled  6\n",
      "Predicted Probabilities:  [[9.8685765e-01 6.0158523e-06 6.3531246e-05 9.9844701e-06 8.1009202e-06\n",
      "  9.6976974e-06 1.2384921e-02 8.2186179e-06 6.3382654e-04 1.7910654e-05]]\n"
     ]
    },
    {
     "data": {
      "image/png": "[encoded data removed]",
      "text/plain": [
       "<Figure size 640x480 with 1 Axes>"
      ]
     },
     "metadata": {},
     "output_type": "display_data"
    }
   ],
   "source": [
    "image_index = 445\n",
    "plt.imshow(x_test[image_index].reshape(28, 28),cmap='Greys')\n",
    "pred = model_1.predict(x_test[image_index].reshape(-1, 784))\n",
    "print(\"Was predicted \",pred.argmax())\n",
    "print(\"Was labeled \",y_test[image_index])\n",
    "print(\"Predicted Probabilities: \",pred)"
   ]
  },
  {
   "cell_type": "code",
   "execution_count": 84,
   "id": "21d534f7-88f7-4e4a-86de-d3d611d59f84",
   "metadata": {},
   "outputs": [
    {
     "data": {
      "image/png": "[encoded data removed]",
      "text/plain": [
       "<Figure size 640x480 with 1 Axes>"
      ]
     },
     "metadata": {},
     "output_type": "display_data"
    }
   ],
   "source": [
    "loss, accuracy  = model_1.evaluate(x_test, y_test_cat, verbose=False)\n",
    "    \n",
    "plt.plot(history.history['accuracy'])\n",
    "plt.plot(history.history['val_accuracy'])\n",
    "plt.title('model accuracy')\n",
    "plt.ylabel('accuracy')\n",
    "plt.xlabel('epoch')\n",
    "plt.legend(['training', 'validation'], loc='best')\n",
    "plt.show()"
   ]
  },
  {
   "cell_type": "code",
   "execution_count": null,
   "id": "1b6a35fc-bf25-4609-bf72-8b83bfa3b5ef",
   "metadata": {},
   "outputs": [],
   "source": []
  }
 ],
 "metadata": {
  "kernelspec": {
   "display_name": "Python 3 (ipykernel)",
   "language": "python",
   "name": "python3"
  },
  "language_info": {
   "codemirror_mode": {
    "name": "ipython",
    "version": 3
   },
   "file_extension": ".py",
   "mimetype": "text/x-python",
   "name": "python",
   "nbconvert_exporter": "python",
   "pygments_lexer": "ipython3",
   "version": "3.12.3"
  }
 },
 "nbformat": 4,
 "nbformat_minor": 5
}
